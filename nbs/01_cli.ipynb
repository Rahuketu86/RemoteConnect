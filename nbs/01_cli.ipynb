{
 "cells": [
  {
   "cell_type": "code",
   "execution_count": null,
   "metadata": {},
   "outputs": [],
   "source": [
    "#default_exp cli\n",
    "from nbdev import *\n",
    "# %nbdev_default_export cli"
   ]
  },
  {
   "cell_type": "markdown",
   "metadata": {},
   "source": [
    "# cli\n",
    "\n",
    "> This is a cli module for RemoteConnect"
   ]
  },
  {
   "cell_type": "code",
   "execution_count": null,
   "metadata": {},
   "outputs": [],
   "source": [
    "#hide\n",
    "from nbdev.showdoc import *"
   ]
  },
  {
   "cell_type": "code",
   "execution_count": null,
   "metadata": {},
   "outputs": [],
   "source": [
    "#export\n",
    "from fastcore.script import call_parse, Param, bool_arg\n",
    "from RemoteConnect.core import RemoteCode, RemoteJupyter, RemotePluto, IN_COLAB, mount_drive"
   ]
  },
  {
   "cell_type": "markdown",
   "metadata": {},
   "source": [
    "## Start Code"
   ]
  },
  {
   "cell_type": "code",
   "execution_count": null,
   "metadata": {},
   "outputs": [],
   "source": [
    "#export\n",
    "@call_parse\n",
    "def start_code(port:Param(\"Port to Start Code\", type=int)=10000, \n",
    "               password:Param(\"Password to Start Code\", type=str)=None, \n",
    "               tunnel:Param(\"Tunel Type\", type=str)='ngrok'):\n",
    "    \"Starts Code Server\"\n",
    "    if IN_COLAB: mount_drive()\n",
    "    RemoteCode(password=password, port=port, tunnel=tunnel)\n"
   ]
  },
  {
   "cell_type": "markdown",
   "metadata": {},
   "source": [
    "## Start Jupyter"
   ]
  },
  {
   "cell_type": "code",
   "execution_count": null,
   "metadata": {},
   "outputs": [],
   "source": [
    "#export\n",
    "@call_parse\n",
    "def start_jupyter(port:Param(\"Port to Start Jupyter\", type=int)=9000, \n",
    "                  ui:Param(\"Interface to start\", type=str)='notebook',\n",
    "                  tunnel:Param(\"Tunel Type\", type=str)='ngrok'):\n",
    "    \"Starts Jupyter\"\n",
    "    if IN_COLAB: mount_drive()\n",
    "    RemoteJupyter(port=port, ui=ui, tunnel=tunnel)"
   ]
  },
  {
   "cell_type": "markdown",
   "metadata": {},
   "source": [
    "## Start Pluto"
   ]
  },
  {
   "cell_type": "code",
   "execution_count": null,
   "metadata": {},
   "outputs": [],
   "source": [
    "#export\n",
    "@call_parse\n",
    "def start_pluto(port:Param(\"Port to Start Jupyter\", type=int)=9000,\n",
    "                tunnel:Param(\"Tunel Type\", type=str)='ngrok'):\n",
    "    \"Starts Pluto.jl reactive notebook\"\n",
    "    if IN_COLAB: mount_drive()\n",
    "    RemotePluto(port=port, tunnel=tunnel)"
   ]
  },
  {
   "cell_type": "code",
   "execution_count": null,
   "metadata": {},
   "outputs": [],
   "source": []
  },
  {
   "cell_type": "code",
   "execution_count": null,
   "metadata": {},
   "outputs": [],
   "source": []
  },
  {
   "cell_type": "code",
   "execution_count": null,
   "metadata": {},
   "outputs": [],
   "source": []
  },
  {
   "cell_type": "code",
   "execution_count": null,
   "metadata": {},
   "outputs": [],
   "source": []
  }
 ],
 "metadata": {
  "kernelspec": {
   "display_name": "Python 3",
   "language": "python",
   "name": "python3"
  }
 },
 "nbformat": 4,
 "nbformat_minor": 4
}
