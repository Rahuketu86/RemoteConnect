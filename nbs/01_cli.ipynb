{
 "cells": [
  {
   "cell_type": "code",
   "execution_count": 1,
   "metadata": {
    "ExecuteTime": {
     "end_time": "2022-02-05T13:46:16.221887Z",
     "start_time": "2022-02-05T13:46:14.597697Z"
    }
   },
   "outputs": [],
   "source": [
    "#default_exp cli\n",
    "from nbdev import *\n",
    "# %nbdev_default_export cli"
   ]
  },
  {
   "cell_type": "markdown",
   "metadata": {},
   "source": [
    "# cli\n",
    "\n",
    "> This is a cli module for RemoteConnect"
   ]
  },
  {
   "cell_type": "code",
   "execution_count": null,
   "metadata": {},
   "outputs": [],
   "source": [
    "#hide\n",
    "from nbdev.showdoc import *"
   ]
  },
  {
   "cell_type": "code",
   "execution_count": null,
   "metadata": {},
   "outputs": [],
   "source": [
    "#export\n",
    "from fastcore.script import call_parse, Param, bool_arg\n",
    "from fastcore.basics import in_colab\n",
    "from RemoteConnect.core import RemoteCode, RemoteJupyter, RemotePluto, mount_drive, connect_to_ngrok"
   ]
  },
  {
   "cell_type": "markdown",
   "metadata": {},
   "source": [
    "## Start Code"
   ]
  },
  {
   "cell_type": "code",
   "execution_count": null,
   "metadata": {},
   "outputs": [],
   "source": [
    "#export\n",
    "@call_parse\n",
    "def start_code(port:Param(\"Port to Start Code\", type=int)=10000, \n",
    "               password:Param(\"Password to Start Code\", type=str)=None, \n",
    "               tunnel:Param(\"Tunel Type\", type=str)='ngrok',\n",
    "               authtoken:Param(\"Tunnel Authtoken for ngrok\", type=str)=None):\n",
    "    \"Starts Code Server\"\n",
    "    if in_colab(): mount_drive()\n",
    "    remote = RemoteCode(password=password, port=port, tunnel=tunnel, authtoken=authtoken)\n",
    "    remote.launch()"
   ]
  },
  {
   "cell_type": "markdown",
   "metadata": {},
   "source": [
    "## Start Jupyter"
   ]
  },
  {
   "cell_type": "code",
   "execution_count": null,
   "metadata": {},
   "outputs": [],
   "source": [
    "#export\n",
    "@call_parse\n",
    "def start_jupyter(port:Param(\"Port to Start Jupyter\", type=int)=9000, \n",
    "                  ui:Param(\"Interface to start\", type=str)='notebook',\n",
    "                  tunnel:Param(\"Tunel Type\", type=str)='ngrok',\n",
    "                  authtoken:Param(\"Tunnel Authtoken for ngrok\", type=str)=None,\n",
    "                  subdomain:Param(\"Add a subdomain only for localtunnel\", type=str)=None,\n",
    "                  install_code:Param(\"Flag to install code\", type=bool)=False,\n",
    "                  install_julia:Param(\"Flag to install code\", type=bool)=False,\n",
    "                  ):\n",
    "    \"Starts Jupyter\"\n",
    "    if in_colab(): \n",
    "        print(\"Mounting Drive\")\n",
    "        mount_drive()\n",
    "    remote = RemoteJupyter(port=port, \n",
    "                           ui=ui, \n",
    "                           tunnel=tunnel, \n",
    "                           authtoken=authtoken,\n",
    "                           subdomain=subdomain,\n",
    "                           install_code=install_code, \n",
    "                           install_julia=install_julia\n",
    "                          )\n",
    "    remote.launch()"
   ]
  },
  {
   "cell_type": "code",
   "execution_count": null,
   "metadata": {},
   "outputs": [],
   "source": [
    "# start_jupyter(tunnel=\"telebit\")"
   ]
  },
  {
   "cell_type": "markdown",
   "metadata": {},
   "source": [
    "## Start Pluto"
   ]
  },
  {
   "cell_type": "code",
   "execution_count": null,
   "metadata": {},
   "outputs": [],
   "source": [
    "#export\n",
    "@call_parse\n",
    "def start_pluto(port:Param(\"Port to Start Jupyter\", type=int)=9000,\n",
    "                tunnel:Param(\"Tunel Type\", type=str)='ngrok',\n",
    "                authtoken:Param(\"Tunnel Authtoken for ngrok\", type=str)=None):\n",
    "    \"Starts Pluto.jl reactive notebook\"\n",
    "    if in_colab(): mount_drive()\n",
    "    remote = RemotePluto(port=port, tunnel=tunnel, authtoken=authtoken)\n",
    "    remote.launch()"
   ]
  },
  {
   "cell_type": "code",
   "execution_count": null,
   "metadata": {},
   "outputs": [],
   "source": []
  },
  {
   "cell_type": "code",
   "execution_count": null,
   "metadata": {},
   "outputs": [],
   "source": []
  }
 ],
 "metadata": {
  "kernelspec": {
   "display_name": "Python 3 (ipykernel)",
   "language": "python",
   "name": "python3"
  },
  "language_info": {
   "codemirror_mode": {
    "name": "ipython",
    "version": 3
   },
   "file_extension": ".py",
   "mimetype": "text/x-python",
   "name": "python",
   "nbconvert_exporter": "python",
   "pygments_lexer": "ipython3",
   "version": "3.9.7"
  },
  "latex_envs": {
   "LaTeX_envs_menu_present": true,
   "autoclose": false,
   "autocomplete": true,
   "bibliofile": "biblio.bib",
   "cite_by": "apalike",
   "current_citInitial": 1,
   "eqLabelWithNumbers": true,
   "eqNumInitial": 1,
   "hotkeys": {
    "equation": "Ctrl-E",
    "itemize": "Ctrl-I"
   },
   "labels_anchors": false,
   "latex_user_defs": false,
   "report_style_numbering": false,
   "user_envs_cfg": false
  },
  "toc": {
   "base_numbering": 1,
   "nav_menu": {},
   "number_sections": true,
   "sideBar": true,
   "skip_h1_title": false,
   "title_cell": "Table of Contents",
   "title_sidebar": "Contents",
   "toc_cell": false,
   "toc_position": {},
   "toc_section_display": true,
   "toc_window_display": false
  },
  "varInspector": {
   "cols": {
    "lenName": 16,
    "lenType": 16,
    "lenVar": 40
   },
   "kernels_config": {
    "python": {
     "delete_cmd_postfix": "",
     "delete_cmd_prefix": "del ",
     "library": "var_list.py",
     "varRefreshCmd": "print(var_dic_list())"
    },
    "r": {
     "delete_cmd_postfix": ") ",
     "delete_cmd_prefix": "rm(",
     "library": "var_list.r",
     "varRefreshCmd": "cat(var_dic_list()) "
    }
   },
   "types_to_exclude": [
    "module",
    "function",
    "builtin_function_or_method",
    "instance",
    "_Feature"
   ],
   "window_display": false
  }
 },
 "nbformat": 4,
 "nbformat_minor": 4
}
