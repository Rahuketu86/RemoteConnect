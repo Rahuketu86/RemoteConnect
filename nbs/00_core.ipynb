{
 "cells": [
  {
   "cell_type": "code",
   "execution_count": null,
   "metadata": {},
   "outputs": [],
   "source": [
    "#default_exp core\n",
    "from nbdev import *"
   ]
  },
  {
   "cell_type": "markdown",
   "metadata": {},
   "source": [
    "# core\n",
    "\n",
    "> This is core functionality for RemoteConnect"
   ]
  },
  {
   "cell_type": "code",
   "execution_count": null,
   "metadata": {},
   "outputs": [],
   "source": [
    "#hide\n",
    "from nbdev.showdoc import *"
   ]
  },
  {
   "cell_type": "code",
   "execution_count": null,
   "metadata": {},
   "outputs": [],
   "source": [
    "#export\n",
    "# IN_COLAB = 'google.colab' in str(get_ipython())\n",
    "# if IN_COLAB:\n",
    "#     from google.colab import drive\n",
    "\n",
    "IN_COLAB = False\n",
    "try:\n",
    "    from google.colab import drive\n",
    "\n",
    "    IN_COLAB = True\n",
    "except ImportError:\n",
    "    IN_COLAB = False\n",
    "import os\n",
    "import subprocess\n",
    "from pyngrok import ngrok"
   ]
  },
  {
   "cell_type": "code",
   "execution_count": null,
   "metadata": {},
   "outputs": [],
   "source": [
    "#exports\n",
    "EXTENSIONS = [\"ms-python.python\", \"jithurjacob.nbpreviewer\"]"
   ]
  },
  {
   "cell_type": "code",
   "execution_count": null,
   "metadata": {},
   "outputs": [],
   "source": [
    "#export\n",
    "def say_hello(to):\n",
    "    print(f\"Say hello to {to}\")"
   ]
  },
  {
   "cell_type": "code",
   "execution_count": null,
   "metadata": {},
   "outputs": [
    {
     "name": "stderr",
     "output_type": "stream",
     "text": [
      "t=2020-12-03T17:01:32+0000 lvl=warn msg=\"can't bind default web address, trying alternatives\" obj=web addr=127.0.0.1:4040\n",
      "\n",
      "t=2020-12-03T17:01:33+0000 lvl=eror msg=\"failed to auth\" obj=tunnels.session err=\"Your account 'Rahul Saraf' is limited to 1 simultaneous ngrok client session.\\nActive ngrok client sessions in region 'us':\\n  - ts_1l9gfOOMIfBboacPudEkoFeii0S (34.198.112.183)\\r\\n\\r\\nERR_NGROK_108\\r\\n\"\n",
      "\n"
     ]
    },
    {
     "ename": "PyngrokNgrokError",
     "evalue": "The ngrok process errored on start: Your account 'Rahul Saraf' is limited to 1 simultaneous ngrok client session.\\nActive ngrok client sessions in region 'us':\\n  - ts_1l9gfOOMIfBboacPudEkoFeii0S (34.198.112.183)\\r\\n\\r\\nERR_NGROK_108\\r\\n.",
     "output_type": "error",
     "traceback": [
      "\u001b[0;31m---------------------------------------------------------------------------\u001b[0m",
      "\u001b[0;31mPyngrokNgrokError\u001b[0m                         Traceback (most recent call last)",
      "\u001b[0;32m<ipython-input-6-b5700ff7af68>\u001b[0m in \u001b[0;36m<module>\u001b[0;34m\u001b[0m\n\u001b[1;32m      1\u001b[0m \u001b[0;31m#hide\u001b[0m\u001b[0;34m\u001b[0m\u001b[0;34m\u001b[0m\u001b[0;34m\u001b[0m\u001b[0m\n\u001b[0;32m----> 2\u001b[0;31m \u001b[0mactive_tunnels\u001b[0m \u001b[0;34m=\u001b[0m \u001b[0mngrok\u001b[0m\u001b[0;34m.\u001b[0m\u001b[0mget_tunnels\u001b[0m\u001b[0;34m(\u001b[0m\u001b[0;34m)\u001b[0m\u001b[0;34m\u001b[0m\u001b[0;34m\u001b[0m\u001b[0m\n\u001b[0m\u001b[1;32m      3\u001b[0m \u001b[0;32mfor\u001b[0m \u001b[0mtunnel\u001b[0m \u001b[0;32min\u001b[0m \u001b[0mactive_tunnels\u001b[0m\u001b[0;34m:\u001b[0m\u001b[0;34m\u001b[0m\u001b[0;34m\u001b[0m\u001b[0m\n\u001b[1;32m      4\u001b[0m     \u001b[0mpublic_url\u001b[0m \u001b[0;34m=\u001b[0m \u001b[0mtunnel\u001b[0m\u001b[0;34m.\u001b[0m\u001b[0mpublic_url\u001b[0m\u001b[0;34m\u001b[0m\u001b[0;34m\u001b[0m\u001b[0m\n\u001b[1;32m      5\u001b[0m     \u001b[0mprint\u001b[0m\u001b[0;34m(\u001b[0m\u001b[0;34mf\"Disconnecting {public_url}\"\u001b[0m\u001b[0;34m)\u001b[0m\u001b[0;34m\u001b[0m\u001b[0;34m\u001b[0m\u001b[0m\n",
      "\u001b[0;32m~/anaconda3/envs/nlphero/lib/python3.8/site-packages/pyngrok/ngrok.py\u001b[0m in \u001b[0;36mget_tunnels\u001b[0;34m(pyngrok_config)\u001b[0m\n\u001b[1;32m    241\u001b[0m         \u001b[0mpyngrok_config\u001b[0m \u001b[0;34m=\u001b[0m \u001b[0mconf\u001b[0m\u001b[0;34m.\u001b[0m\u001b[0mDEFAULT_PYNGROK_CONFIG\u001b[0m\u001b[0;34m\u001b[0m\u001b[0;34m\u001b[0m\u001b[0m\n\u001b[1;32m    242\u001b[0m \u001b[0;34m\u001b[0m\u001b[0m\n\u001b[0;32m--> 243\u001b[0;31m     \u001b[0mapi_url\u001b[0m \u001b[0;34m=\u001b[0m \u001b[0mget_ngrok_process\u001b[0m\u001b[0;34m(\u001b[0m\u001b[0mpyngrok_config\u001b[0m\u001b[0;34m)\u001b[0m\u001b[0;34m.\u001b[0m\u001b[0mapi_url\u001b[0m\u001b[0;34m\u001b[0m\u001b[0;34m\u001b[0m\u001b[0m\n\u001b[0m\u001b[1;32m    244\u001b[0m \u001b[0;34m\u001b[0m\u001b[0m\n\u001b[1;32m    245\u001b[0m     \u001b[0mtunnels\u001b[0m \u001b[0;34m=\u001b[0m \u001b[0;34m[\u001b[0m\u001b[0;34m]\u001b[0m\u001b[0;34m\u001b[0m\u001b[0;34m\u001b[0m\u001b[0m\n",
      "\u001b[0;32m~/anaconda3/envs/nlphero/lib/python3.8/site-packages/pyngrok/ngrok.py\u001b[0m in \u001b[0;36mget_ngrok_process\u001b[0;34m(pyngrok_config)\u001b[0m\n\u001b[1;32m    128\u001b[0m     \u001b[0mensure_ngrok_installed\u001b[0m\u001b[0;34m(\u001b[0m\u001b[0mpyngrok_config\u001b[0m\u001b[0;34m.\u001b[0m\u001b[0mngrok_path\u001b[0m\u001b[0;34m)\u001b[0m\u001b[0;34m\u001b[0m\u001b[0;34m\u001b[0m\u001b[0m\n\u001b[1;32m    129\u001b[0m \u001b[0;34m\u001b[0m\u001b[0m\n\u001b[0;32m--> 130\u001b[0;31m     \u001b[0;32mreturn\u001b[0m \u001b[0mprocess\u001b[0m\u001b[0;34m.\u001b[0m\u001b[0mget_process\u001b[0m\u001b[0;34m(\u001b[0m\u001b[0mpyngrok_config\u001b[0m\u001b[0;34m)\u001b[0m\u001b[0;34m\u001b[0m\u001b[0;34m\u001b[0m\u001b[0m\n\u001b[0m\u001b[1;32m    131\u001b[0m \u001b[0;34m\u001b[0m\u001b[0m\n\u001b[1;32m    132\u001b[0m \u001b[0;34m\u001b[0m\u001b[0m\n",
      "\u001b[0;32m~/anaconda3/envs/nlphero/lib/python3.8/site-packages/pyngrok/process.py\u001b[0m in \u001b[0;36mget_process\u001b[0;34m(pyngrok_config)\u001b[0m\n\u001b[1;32m    280\u001b[0m             \u001b[0m_current_processes\u001b[0m\u001b[0;34m.\u001b[0m\u001b[0mpop\u001b[0m\u001b[0;34m(\u001b[0m\u001b[0mpyngrok_config\u001b[0m\u001b[0;34m.\u001b[0m\u001b[0mngrok_path\u001b[0m\u001b[0;34m,\u001b[0m \u001b[0;32mNone\u001b[0m\u001b[0;34m)\u001b[0m\u001b[0;34m\u001b[0m\u001b[0;34m\u001b[0m\u001b[0m\n\u001b[1;32m    281\u001b[0m \u001b[0;34m\u001b[0m\u001b[0m\n\u001b[0;32m--> 282\u001b[0;31m     \u001b[0;32mreturn\u001b[0m \u001b[0m_start_process\u001b[0m\u001b[0;34m(\u001b[0m\u001b[0mpyngrok_config\u001b[0m\u001b[0;34m)\u001b[0m\u001b[0;34m\u001b[0m\u001b[0;34m\u001b[0m\u001b[0m\n\u001b[0m\u001b[1;32m    283\u001b[0m \u001b[0;34m\u001b[0m\u001b[0m\n\u001b[1;32m    284\u001b[0m \u001b[0;34m\u001b[0m\u001b[0m\n",
      "\u001b[0;32m~/anaconda3/envs/nlphero/lib/python3.8/site-packages/pyngrok/process.py\u001b[0m in \u001b[0;36m_start_process\u001b[0;34m(pyngrok_config)\u001b[0m\n\u001b[1;32m    422\u001b[0m \u001b[0;34m\u001b[0m\u001b[0m\n\u001b[1;32m    423\u001b[0m         \u001b[0;32mif\u001b[0m \u001b[0mngrok_process\u001b[0m\u001b[0;34m.\u001b[0m\u001b[0mstartup_error\u001b[0m \u001b[0;32mis\u001b[0m \u001b[0;32mnot\u001b[0m \u001b[0;32mNone\u001b[0m\u001b[0;34m:\u001b[0m\u001b[0;34m\u001b[0m\u001b[0;34m\u001b[0m\u001b[0m\n\u001b[0;32m--> 424\u001b[0;31m             raise PyngrokNgrokError(\"The ngrok process errored on start: {}.\".format(ngrok_process.startup_error),\n\u001b[0m\u001b[1;32m    425\u001b[0m                                     \u001b[0mngrok_process\u001b[0m\u001b[0;34m.\u001b[0m\u001b[0mlogs\u001b[0m\u001b[0;34m,\u001b[0m\u001b[0;34m\u001b[0m\u001b[0;34m\u001b[0m\u001b[0m\n\u001b[1;32m    426\u001b[0m                                     ngrok_process.startup_error)\n",
      "\u001b[0;31mPyngrokNgrokError\u001b[0m: The ngrok process errored on start: Your account 'Rahul Saraf' is limited to 1 simultaneous ngrok client session.\\nActive ngrok client sessions in region 'us':\\n  - ts_1l9gfOOMIfBboacPudEkoFeii0S (34.198.112.183)\\r\\n\\r\\nERR_NGROK_108\\r\\n."
     ]
    }
   ],
   "source": [
    "#hide\n",
    "active_tunnels = ngrok.get_tunnels()\n",
    "for tunnel in active_tunnels:\n",
    "    public_url = tunnel.public_url\n",
    "    print(f\"Disconnecting {public_url}\")\n",
    "    ngrok.disconnect(public_url)\n",
    "    \n",
    "url = ngrok.connect(port=10000, options={\"bind_tls\":True})\n",
    "print(f\"Code server can be assesed on : {url}\")"
   ]
  },
  {
   "cell_type": "code",
   "execution_count": null,
   "metadata": {},
   "outputs": [],
   "source": [
    "def connect_to_localhost(port):\n",
    "    pass"
   ]
  },
  {
   "cell_type": "code",
   "execution_count": null,
   "metadata": {},
   "outputs": [],
   "source": [
    "# !ssh -R 80:localhost:8080 ssh.localhost.run -y"
   ]
  },
  {
   "cell_type": "code",
   "execution_count": null,
   "metadata": {},
   "outputs": [],
   "source": [
    "#export\n",
    "def connect_to_ngrok(port):\n",
    "    active_tunnels = ngrok.get_tunnels()\n",
    "    for tunnel in active_tunnels:\n",
    "        public_url = tunnel.public_url\n",
    "        print(f\"Disconnecting {public_url}\")\n",
    "        ngrok.disconnect(public_url)\n",
    "    url = ngrok.connect(port=port, options={\"bind_tls\":True})\n",
    "    print(f\"Remote server can be assesed on : {url}\")\n",
    "    return url "
   ]
  },
  {
   "cell_type": "code",
   "execution_count": null,
   "metadata": {},
   "outputs": [],
   "source": [
    "#export\n",
    "def execute_cmd(cmd):\n",
    "    print(f\"Executing >>> {cmd}\")\n",
    "    with subprocess.Popen(\n",
    "        [cmd],\n",
    "        shell=True,\n",
    "        stdout=subprocess.PIPE,\n",
    "        bufsize=1,\n",
    "        universal_newlines=True,\n",
    "    ) as proc:\n",
    "        for line in proc.stdout:\n",
    "            print(line, end=\"\")"
   ]
  },
  {
   "cell_type": "code",
   "execution_count": null,
   "metadata": {},
   "outputs": [],
   "source": [
    "#export\n",
    "def mount_drive():\n",
    "    drive.mount(\"/content/drive\")"
   ]
  },
  {
   "cell_type": "code",
   "execution_count": null,
   "metadata": {},
   "outputs": [],
   "source": [
    "#export\n",
    "class RemoteCode:\n",
    "    \"\"\" Install and launch an instance of Remote Code\"\"\"\n",
    "    def __init__(self, port=10000, password=None):\n",
    "        self.port = port\n",
    "        self.password = password\n",
    "        self._mount = IN_COLAB\n",
    "        self.url = None\n",
    "        self._install_code()\n",
    "        self._install_extensions()\n",
    "        self._start_server()\n",
    "        self._run_code()\n",
    "        \n",
    "    def _install_code(self):\n",
    "        subprocess.run(\n",
    "            [\"wget\", \"https://code-server.dev/install.sh\"], stdout=subprocess.PIPE\n",
    "        )\n",
    "        subprocess.run([\"sh\", \"install.sh\"], stdout=subprocess.PIPE)\n",
    "\n",
    "    def _install_extensions(self):\n",
    "        for ext in EXTENSIONS:\n",
    "            subprocess.run([\"code-server\", \"--install-extension\", f\"{ext}\"]) \n",
    "            \n",
    "    def _start_server(self):\n",
    "        self.url = connect_to_ngrok(self.port)\n",
    "        \n",
    "    def _run_code(self):\n",
    "        os.system(f\"fuser -n tcp -k {self.port}\")\n",
    "#         if IN_COLAB:\n",
    "#             drive.mount(\"/content/drive\")\n",
    "        if self.password:\n",
    "            code_cmd = f\"PASSWORD={self.password} code-server --port {self.port} --disable-telemetry\"\n",
    "        else:\n",
    "            code_cmd = f\"code-server --port {self.port} --auth none --disable-telemetry\"\n",
    "        execute_cmd(code_cmd)\n",
    "        \n",
    "    def __str__(self):\n",
    "        return f\"Remote Code runnning on {self.url}:{self.port} with password:{self.password} in colab envrionment:{IN_COLAB}\"\n",
    "        "
   ]
  },
  {
   "cell_type": "code",
   "execution_count": null,
   "metadata": {},
   "outputs": [],
   "source": [
    "#exports\n",
    "NOTEBOOK_EXTENSIONS = [\"toc2/main\", \"collapsible_headings/main\", \"execute_time/ExecuteTime\", \"codefolding/main\"]"
   ]
  },
  {
   "cell_type": "code",
   "execution_count": null,
   "metadata": {},
   "outputs": [],
   "source": [
    "#export\n",
    "class RemoteJupyter:\n",
    "    \"\"\" Install and launch an instance of Remote Jupyter\"\"\"\n",
    "    def __init__(self, port=9000, ui='notebook'):\n",
    "        self.port = port\n",
    "        self._mount = IN_COLAB\n",
    "        self.url = None\n",
    "        self.ui = ui\n",
    "        if IN_COLAB:\n",
    "            self._install_extensions()\n",
    "        self._start_server()\n",
    "        self._run_jupyter()\n",
    "            \n",
    "    def _install_extensions(self):\n",
    "        subprocess.run([\"jupyter\", \"contrib\", \"nbextension\",\"install\",  \"--system\"], stdout=subprocess.PIPE)\n",
    "        #nbextensions_configurator enable --user\n",
    "        subprocess.run([\"jupyter\", \"nbextensions_configurator\",\"enable\",  \"--system\"], stdout=subprocess.PIPE)\n",
    "        for ext in NOTEBOOK_EXTENSIONS:\n",
    "            subprocess.run([\"jupyter\", \"nbextension\", \"enable\", ext], stdout=subprocess.PIPE)  \n",
    "\n",
    "    def _start_server(self):\n",
    "        self.url = connect_to_ngrok(self.port)\n",
    "        \n",
    "    def _run_jupyter(self):\n",
    "        os.system(f\"fuser -n tcp -k {self.port}\")\n",
    "        print(self.url)\n",
    "#         if IN_COLAB:\n",
    "#             drive.mount(\"/content/drive\")\n",
    "        jupyter_cmd = f\"jupyter {self.ui} --NotebookApp.allow_remote_access=True  --NotebookApp.disable_check_xsrf=True --ip=0.0.0.0 --port={self.port}\"\n",
    "        if self.ui == 'lab':\n",
    "            jupyter_cmd = f\"jupyter {self.ui} --ip=0.0.0.0 --port={self.port} --no-browser\"\n",
    "        execute_cmd(jupyter_cmd)\n",
    "        \n",
    "    def __str__(self):\n",
    "        return f\"Remote Jupyter runnning on {self.url}:{self.port} with password:{self.password} in colab envrionment:{IN_COLAB}\""
   ]
  },
  {
   "cell_type": "code",
   "execution_count": null,
   "metadata": {},
   "outputs": [],
   "source": [
    "#export\n",
    "class RemotePluto:\n",
    "    \"\"\" Install and launch an instance of Remote Pluto.jl for Julia⌈\"\"\"\n",
    "    def __init__(self, port=9000):\n",
    "        self.port = port\n",
    "        self._mount = IN_COLAB\n",
    "#         if IN_COLAB:\n",
    "#             self._install_extensions()\n",
    "        self._start_server()\n",
    "        self._run_pluto()\n",
    "            \n",
    "#     def _install_extensions(self):\n",
    "#         subprocess.run([\"jupyter\", \"contrib\", \"nbextension\",\"install\",  \"--system\"], stdout=subprocess.PIPE)\n",
    "#         #nbextensions_configurator enable --user\n",
    "#         subprocess.run([\"jupyter\", \"nbextensions_configurator\",\"enable\",  \"--system\"], stdout=subprocess.PIPE)\n",
    "#         for ext in NOTEBOOK_EXTENSIONS:\n",
    "#             subprocess.run([\"jupyter\", \"nbextension\", \"enable\", ext], stdout=subprocess.PIPE)  \n",
    "\n",
    "    def _start_server(self):\n",
    "        self.url = connect_to_ngrok(self.port)\n",
    "        \n",
    "    def _run_pluto(self):\n",
    "        os.system(f\"fuser -n tcp -k {self.port}\")\n",
    "        print(self.url)\n",
    "#         if IN_COLAB:\n",
    "#             drive.mount(\"/content/drive\")\n",
    "        pluto_cmd = f'julia -e \"using Pluto;Pluto.run(port={self.port})\"'\n",
    "#         if self.ui == 'lab':\n",
    "#             jupyter_cmd = f\"jupyter {self.ui} --ip=0.0.0.0 --port={self.port} --no-browser\"\n",
    "        execute_cmd(pluto_cmd)\n",
    "        \n",
    "    def __str__(self):\n",
    "        return f\"Remote Pluto runnning on {self.url}:{self.port} with password:{self.password} in colab envrionment:{IN_COLAB}\""
   ]
  },
  {
   "cell_type": "code",
   "execution_count": null,
   "metadata": {},
   "outputs": [],
   "source": []
  },
  {
   "cell_type": "code",
   "execution_count": null,
   "metadata": {},
   "outputs": [],
   "source": []
  }
 ],
 "metadata": {
  "kernelspec": {
   "display_name": "Python 3",
   "language": "python",
   "name": "python3"
  }
 },
 "nbformat": 4,
 "nbformat_minor": 2
}
