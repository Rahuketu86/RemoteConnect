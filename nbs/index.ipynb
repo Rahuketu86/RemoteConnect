{
 "cells": [
  {
   "cell_type": "code",
   "execution_count": null,
   "metadata": {},
   "outputs": [],
   "source": [
    "#hide\n",
    "from RemoteConnect.core import *"
   ]
  },
  {
   "cell_type": "markdown",
   "metadata": {},
   "source": [
    "# Remote Connect\n",
    "\n",
    "> Launch Code , Jupyter or other apps from colab and OEC"
   ]
  },
  {
   "cell_type": "markdown",
   "metadata": {},
   "source": [
    "## Install"
   ]
  },
  {
   "cell_type": "markdown",
   "metadata": {},
   "source": [
    "- For development (editable version)\n",
    "  \n",
    "  ```pip install -e .```\n",
    "  \n",
    "- For latest version \n",
    "\n",
    "   ```!pip install -U git+https://github.com/Rahuketu86/RemoteConnect.git```"
   ]
  },
  {
   "cell_type": "markdown",
   "metadata": {},
   "source": [
    "## How to use"
   ]
  },
  {
   "cell_type": "markdown",
   "metadata": {},
   "source": [
    "- Open a colab notebook\n",
    "- Install the RemoteConnect package if on colab\n",
    "\n",
    "  ```!pip install -U git+https://github.com/Rahuketu86/RemoteConnect.git```\n",
    "  \n",
    "- For running VSCode on Remote Machine ( Server or Colab)\n",
    "\n",
    "  ```!start_code --port=<port> --password=<password>```\n",
    "\n",
    "- For running Jupyter on Remote Machine ( Server or Colab)\n",
    "\n",
    "  ```!start_jupyter --port=<port>```\n",
    "  "
   ]
  },
  {
   "cell_type": "code",
   "execution_count": null,
   "metadata": {},
   "outputs": [],
   "source": []
  },
  {
   "cell_type": "code",
   "execution_count": null,
   "metadata": {},
   "outputs": [],
   "source": []
  }
 ],
 "metadata": {
  "kernelspec": {
   "display_name": "Python 3.8.5 64-bit ('nlphero': conda)",
   "language": "python",
   "name": "python38564bitnlpheroconda0d8f7c33bb7e4fe380fdce71b57f9029"
  }
 },
 "nbformat": 4,
 "nbformat_minor": 2
}
