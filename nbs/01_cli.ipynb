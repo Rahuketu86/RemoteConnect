{
 "cells": [
  {
   "cell_type": "code",
   "execution_count": null,
   "metadata": {},
   "outputs": [],
   "source": [
    "#default_exp cli\n",
    "from nbdev import *\n",
    "# %nbdev_default_export cli"
   ]
  },
  {
   "cell_type": "markdown",
   "metadata": {},
   "source": [
    "# cli\n",
    "\n",
    "> This is a cli module for RemoteConnect"
   ]
  },
  {
   "cell_type": "code",
   "execution_count": null,
   "metadata": {},
   "outputs": [],
   "source": [
    "#hide\n",
    "from nbdev.showdoc import *"
   ]
  },
  {
   "cell_type": "code",
   "execution_count": null,
   "metadata": {},
   "outputs": [],
   "source": [
    "#export\n",
    "from fastcore.script import call_parse, Param, bool_arg\n",
    "from RemoteConnect.core import RemoteCode, RemoteJupyter, RemotePluto, IN_COLAB, mount_drive"
   ]
  },
  {
   "cell_type": "markdown",
   "metadata": {},
   "source": [
    "## Start Code"
   ]
  },
  {
   "cell_type": "code",
   "execution_count": null,
   "metadata": {},
   "outputs": [],
   "source": [
    "#export\n",
    "@call_parse\n",
    "def start_code(port:Param(\"Port to Start Code\", type=int)=10000, \n",
    "               password:Param(\"Password to Start Code\", type=str)=None, \n",
    "               tunnel:Param(\"Tunel Type\", type=str)='ngrok',\n",
    "               authtoken:Param(\"Tunnel Authtoken for ngrok\", type=str)=None):\n",
    "    \"Starts Code Server\"\n",
    "    if IN_COLAB: mount_drive()\n",
    "    remote = RemoteCode(password=password, port=port, tunnel=tunnel, authtoken=authtoken)\n",
    "    remote.launch()\n"
   ]
  },
  {
   "cell_type": "markdown",
   "metadata": {},
   "source": [
    "## Start Jupyter"
   ]
  },
  {
   "cell_type": "code",
   "execution_count": null,
   "metadata": {},
   "outputs": [],
   "source": [
    "#export\n",
    "@call_parse\n",
    "def start_jupyter(port:Param(\"Port to Start Jupyter\", type=int)=9000, \n",
    "                  ui:Param(\"Interface to start\", type=str)='notebook',\n",
    "                  tunnel:Param(\"Tunel Type\", type=str)='ngrok',\n",
    "                  authtoken:Param(\"Tunnel Authtoken for ngrok\", type=str)=None):\n",
    "    \"Starts Jupyter\"\n",
    "    if IN_COLAB: mount_drive()\n",
    "    remote = RemoteJupyter(port=port, ui=ui, tunnel=tunnel, authtoken=authtoken)\n",
    "    remote.launch()"
   ]
  },
  {
   "cell_type": "code",
   "execution_count": null,
   "metadata": {},
   "outputs": [],
   "source": [
    "# start_jupyter(tunnel=\"telebit\")"
   ]
  },
  {
   "cell_type": "markdown",
   "metadata": {},
   "source": [
    "## Start Pluto"
   ]
  },
  {
   "cell_type": "code",
   "execution_count": null,
   "metadata": {},
   "outputs": [],
   "source": [
    "#export\n",
    "@call_parse\n",
    "def start_pluto(port:Param(\"Port to Start Jupyter\", type=int)=9000,\n",
    "                tunnel:Param(\"Tunel Type\", type=str)='ngrok',\n",
    "                authtoken:Param(\"Tunnel Authtoken for ngrok\", type=str)=None):\n",
    "    \"Starts Pluto.jl reactive notebook\"\n",
    "    if IN_COLAB: mount_drive()\n",
    "    remote = RemotePluto(port=port, tunnel=tunnel, authtoken=authtoken)\n",
    "    remote.launch()"
   ]
  },
  {
   "cell_type": "code",
   "execution_count": null,
   "metadata": {},
   "outputs": [],
   "source": [
    "IN_COLAB??"
   ]
  },
  {
   "cell_type": "code",
   "execution_count": null,
   "metadata": {},
   "outputs": [],
   "source": []
  },
  {
   "cell_type": "code",
   "execution_count": null,
   "metadata": {},
   "outputs": [
    {
     "ename": "NameError",
     "evalue": "name 'IN_COLAB' is not defined",
     "output_type": "error",
     "traceback": [
      "\u001b[0;31m---------------------------------------------------------------------------\u001b[0m",
      "\u001b[0;31mNameError\u001b[0m                                 Traceback (most recent call last)",
      "\u001b[0;32m/tmp/ipykernel_198313/4013617550.py\u001b[0m in \u001b[0;36m<module>\u001b[0;34m\u001b[0m\n\u001b[0;32m----> 1\u001b[0;31m \u001b[0mIN_COLAB\u001b[0m\u001b[0;34m\u001b[0m\u001b[0;34m\u001b[0m\u001b[0m\n\u001b[0m",
      "\u001b[0;31mNameError\u001b[0m: name 'IN_COLAB' is not defined"
     ]
    }
   ],
   "source": [
    "IN_COLAB"
   ]
  },
  {
   "cell_type": "code",
   "execution_count": null,
   "metadata": {},
   "outputs": [],
   "source": []
  }
 ],
 "metadata": {
  "kernelspec": {
   "display_name": "Python 3 (ipykernel)",
   "language": "python",
   "name": "python3"
  }
 },
 "nbformat": 4,
 "nbformat_minor": 4
}
