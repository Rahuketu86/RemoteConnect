{
 "cells": [
  {
   "cell_type": "code",
   "execution_count": null,
   "metadata": {},
   "outputs": [],
   "source": [
    "#hide\n",
    "from RemoteConnect.core import *"
   ]
  },
  {
   "cell_type": "markdown",
   "metadata": {},
   "source": [
    "# Remote Connect\n",
    "\n",
    "> Launch Code , Jupyter or other apps from colab and OEC"
   ]
  },
  {
   "cell_type": "markdown",
   "metadata": {},
   "source": [
    "## Install"
   ]
  },
  {
   "cell_type": "markdown",
   "metadata": {},
   "source": [
    "- For development (editable version)\n",
    "  \n",
    "  ```pip install -e .```\n",
    "  \n",
    "- For latest version \n",
    "\n",
    "   ```!pip install -U git+https://github.com/Rahuketu86/RemoteConnect.git```"
   ]
  },
  {
   "cell_type": "markdown",
   "metadata": {},
   "source": [
    "## How to use"
   ]
  },
  {
   "cell_type": "markdown",
   "metadata": {},
   "source": [
    "- Open a colab notebook\n",
    "    - Install the RemoteConnect package if on colab\n",
    "\n",
    "      ```!pip install -U git+https://github.com/Rahuketu86/RemoteConnect.git```\n",
    "\n",
    "    - For running VSCode on Remote Machine ( Server or Colab)\n",
    "\n",
    "      ```!start_code --port=<port> --password=<password>```\n",
    "\n",
    "    - For running Jupyter on Remote Machine ( Server or Colab)\n",
    "\n",
    "      ```!start_jupyter --port=<port>  --ui=<ui>```\n",
    "      \n",
    "      Default ui options is notebook. To open lab interface pass `--ui lab`\n",
    "\n",
    "    - For running Pluto.jl reactive notebook(Only Server)\n",
    "\n",
    "      ```!start_pluto --port=<port>```\n",
    "  \n",
    "- On Remote Server\n",
    "    - It might be beneficial to register ngrok authtoken <token> after installation "
   ]
  },
  {
   "cell_type": "markdown",
   "metadata": {},
   "source": [
    "##  ProxyServers"
   ]
  },
  {
   "cell_type": "markdown",
   "metadata": {},
   "source": [
    "- Added Code and Pluto as jupyter server proxy\n",
    "    - Accessible at `Pluto.jl` in notebook or `/pluto` on url\n",
    "    - Accessible at `Vscodium` in notebook or `/codium` on url\n",
    "- Added docserver and bookserver for nbdev and jupyterbook"
   ]
  }
 ],
 "metadata": {
  "kernelspec": {
   "display_name": "Python 3",
   "language": "python",
   "name": "python3"
  }
 },
 "nbformat": 4,
 "nbformat_minor": 4
}
