{
 "cells": [
  {
   "cell_type": "code",
   "execution_count": null,
   "metadata": {},
   "outputs": [],
   "source": [
    "#default_exp proxyservers\n",
    "from nbdev import *"
   ]
  },
  {
   "cell_type": "markdown",
   "metadata": {},
   "source": [
    "# proxyservers\n",
    "\n",
    "> This is a proxyservers module for RemoteConnect"
   ]
  },
  {
   "cell_type": "code",
   "execution_count": null,
   "metadata": {},
   "outputs": [],
   "source": [
    "#hide\n",
    "from nbdev.showdoc import *"
   ]
  },
  {
   "cell_type": "code",
   "execution_count": null,
   "metadata": {},
   "outputs": [],
   "source": [
    "#export\n",
    "# from RemoteConnect.core import setup_vscode\n",
    "import os\n",
    "import pathlib"
   ]
  },
  {
   "cell_type": "code",
   "execution_count": null,
   "metadata": {},
   "outputs": [],
   "source": [
    "#export\n",
    "def fix_path(todoc=False):\n",
    "    old_path = os.getcwd()\n",
    "    if not todoc:\n",
    "        if old_path.split(os.sep)[-1]==\"docs\":\n",
    "            print(old_path.split(os.sep)[-1])\n",
    "            os.chdir(os.path.dirname(old_path))\n",
    "        else:\n",
    "            os.chdir(old_path)\n",
    "    else:\n",
    "        if old_path.split(os.sep)[-1]==\"docs\":\n",
    "            print(old_path.split(os.sep)[-1])\n",
    "            os.chdir(old_path)\n",
    "        else:\n",
    "            os.chdir(os.path.join(old_path, \"docs\"))\n",
    "    \n",
    "\n",
    "# fix_path(todoc=True)\n",
    "# print(os.getcwd())\n",
    "# fix_path(todoc=False)\n",
    "# print(os.getcwd())\n",
    "# # os.getcwd()"
   ]
  },
  {
   "cell_type": "code",
   "execution_count": null,
   "metadata": {},
   "outputs": [],
   "source": [
    "#export\n",
    "def fix_cmd(cmdlist, todoc=False):\n",
    "    fix_path(todoc)\n",
    "    return cmdlist"
   ]
  },
  {
   "cell_type": "code",
   "execution_count": null,
   "metadata": {},
   "outputs": [],
   "source": [
    "#export\n",
    "def plutoserver():\n",
    "    return {\n",
    "        \"command\": fix_cmd([\"julia\", \"--optimize=0\", \"-e\", \"import Pluto; Pluto.run(host=\\\"0.0.0.0\\\", port={port}, launch_browser=false, require_secret_for_open_links=false, require_secret_for_access=false)\"]),\n",
    "        \"timeout\": 60,\n",
    "        \"launcher_entry\": {\n",
    "            \"title\": \"Pluto.jl\",\n",
    "    },\n",
    "  }"
   ]
  },
  {
   "cell_type": "code",
   "execution_count": null,
   "metadata": {},
   "outputs": [],
   "source": [
    "#export\n",
    "def codeserver():\n",
    "    \"\"\"\n",
    "    Export codeserver as jupyter server proxy\n",
    "    \"\"\"\n",
    "    return {\n",
    "        \"command\": fix_cmd([\"code-server\", \"--port\", \"{port}\", \"--auth\",\"none\", \"--disable-telemetry\"]),\n",
    "        \"timeout\":60,\n",
    "#         'absolute_url': True,\n",
    "        \"launcher_entry\": {\n",
    "            \"title\": \"codeserver\",\n",
    "#             'icon_path': get_icon_path(\"vscode.svg\")\n",
    "    },\n",
    "  }"
   ]
  },
  {
   "cell_type": "code",
   "execution_count": null,
   "metadata": {},
   "outputs": [],
   "source": [
    "#export\n",
    "def docserver():\n",
    "    \"\"\"\n",
    "    Export server for nbdev local documentation site\n",
    "    \"\"\"\n",
    "    def pathfix_cmd():\n",
    "        return fix_cmd([\"bundle\", \"exec\", \"jekyll\", \"serve\",\"--config\", \"_config.yml,_config_proxy.yml\", \"--port\", \"{port}\"], todoc=True)\n",
    "\n",
    "    return {\n",
    "        \"command\": pathfix_cmd,\n",
    "        \"timeout\":60,\n",
    "        'absolute_url': True,\n",
    "        \"launcher_entry\": {\n",
    "            \"title\": \"docserver\",\n",
    "#             'icon_path': get_icon_path(\"documentation.svg\")\n",
    "    },\n",
    "  }"
   ]
  },
  {
   "cell_type": "code",
   "execution_count": null,
   "metadata": {},
   "outputs": [],
   "source": [
    "#export\n",
    "def bookserver():\n",
    "    \"\"\"\n",
    "    Runs a local book server inside jupyter instance\n",
    "    \"\"\"\n",
    "    return {\n",
    "        \"command\": fix_cmd(['http-server', \"./book/_build/html\", \"-p\", \"{port}\"]),\n",
    "        'absolute_url': False,\n",
    "        \"launcher_entry\": {\n",
    "            \"title\": \"bookserver\",\n",
    "#             'icon_path': get_icon_path(\"book.svg\")\n",
    "    },\n",
    "  }"
   ]
  },
  {
   "cell_type": "code",
   "execution_count": null,
   "metadata": {},
   "outputs": [],
   "source": []
  }
 ],
 "metadata": {
  "kernelspec": {
   "display_name": "Python 3",
   "language": "python",
   "name": "python3"
  }
 },
 "nbformat": 4,
 "nbformat_minor": 4
}
