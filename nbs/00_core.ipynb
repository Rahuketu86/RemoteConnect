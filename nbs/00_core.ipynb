{
 "cells": [
  {
   "cell_type": "code",
   "execution_count": null,
   "metadata": {},
   "outputs": [
    {
     "name": "stdout",
     "output_type": "stream",
     "text": [
      "Cells will be exported to RemoteConnect.core,\n",
      "unless a different module is specified after an export flag: `%nbdev_export special.module`\n"
     ]
    }
   ],
   "source": [
    "from nbdev import *\n",
    "%nbdev_default_export core"
   ]
  },
  {
   "cell_type": "markdown",
   "metadata": {},
   "source": [
    "# core\n",
    "\n",
    "> This is core functionality for RemoteConnect"
   ]
  },
  {
   "cell_type": "code",
   "execution_count": null,
   "metadata": {},
   "outputs": [],
   "source": [
    "%nbdev_hide\n",
    "from nbdev.showdoc import *"
   ]
  },
  {
   "cell_type": "code",
   "execution_count": null,
   "metadata": {},
   "outputs": [],
   "source": [
    "%nbdev_export_and_show\n",
    "IN_COLAB = 'google.colab' in str(get_ipython())\n",
    "if IN_COLAB:\n",
    "    from google.colab import drive\n",
    "import os\n",
    "import subprocess\n",
    "from pyngrok import ngrok"
   ]
  },
  {
   "cell_type": "code",
   "execution_count": null,
   "metadata": {},
   "outputs": [],
   "source": [
    "%nbdev_export_and_show\n",
    "EXTENSIONS = [\"ms-python.python\", \"jithurjacob.nbpreviewer\"]"
   ]
  },
  {
   "cell_type": "code",
   "execution_count": null,
   "metadata": {},
   "outputs": [],
   "source": [
    "%nbdev_export\n",
    "def say_hello(to):\n",
    "    print(f\"Say hello to {to}\")"
   ]
  },
  {
   "cell_type": "code",
   "execution_count": null,
   "metadata": {},
   "outputs": [
    {
     "name": "stdout",
     "output_type": "stream",
     "text": [
      "Disconnecting https://8aa1ab1b87eb.ngrok.io\n",
      "Code server can be assesed on : https://7c31f6001eeb.ngrok.io\n"
     ]
    }
   ],
   "source": [
    "active_tunnels = ngrok.get_tunnels()\n",
    "for tunnel in active_tunnels:\n",
    "    public_url = tunnel.public_url\n",
    "    print(f\"Disconnecting {public_url}\")\n",
    "    ngrok.disconnect(public_url)\n",
    "    \n",
    "url = ngrok.connect(port=10000, options={\"bind_tls\":True})\n",
    "print(f\"Code server can be assesed on : {url}\")"
   ]
  },
  {
   "cell_type": "code",
   "execution_count": null,
   "metadata": {},
   "outputs": [],
   "source": [
    "%nbdev_export\n",
    "def connect_to_ngrok(port):\n",
    "    active_tunnels = ngrok.get_tunnels()\n",
    "    for tunnel in active_tunnels:\n",
    "        public_url = tunnel.public_url\n",
    "        print(f\"Disconnecting {public_url}\")\n",
    "        ngrok.disconnect(public_url)\n",
    "    url = ngrok.connect(port=port, options={\"bind_tls\":True})\n",
    "    print(f\"Code server can be assesed on : {url}\")\n",
    "    return url "
   ]
  },
  {
   "cell_type": "code",
   "execution_count": null,
   "metadata": {},
   "outputs": [],
   "source": [
    "%nbdev_export_and_show\n",
    "class RemoteCode:\n",
    "    \"\"\" Install and launch an instance of Remote Code\"\"\"\n",
    "    def __init__(self, port=10000, password=None):\n",
    "        self.port = port\n",
    "        self.password = password\n",
    "        self._mount = IN_COLAB\n",
    "        self.url = None\n",
    "        self._install_code()\n",
    "        self._install_extensions()\n",
    "        self._start_server()\n",
    "        self._run_code()\n",
    "        \n",
    "    def _install_code(self):\n",
    "        subprocess.run(\n",
    "            [\"wget\", \"https://code-server.dev/install.sh\"], stdout=subprocess.PIPE\n",
    "        )\n",
    "        subprocess.run([\"sh\", \"install.sh\"], stdout=subprocess.PIPE)\n",
    "\n",
    "    def _install_extensions(self):\n",
    "        for ext in EXTENSIONS:\n",
    "            subprocess.run([\"code-server\", \"--install-extension\", f\"{ext}\"]) \n",
    "            \n",
    "    def _start_server(self):\n",
    "        self.url = connect_to_ngrok(self.port)\n",
    "        \n",
    "    \n",
    "    def _run_code(self):\n",
    "        os.system(f\"fuser -n tcp -k {self.port}\")\n",
    "        if IN_COLAB:\n",
    "            drive.mount(\"/content/drive\")\n",
    "        if self.password:\n",
    "            code_cmd = f\"PASSWORD={self.password} code-server --port {self.port} --disable-telemetry\"\n",
    "        else:\n",
    "            code_cmd = f\"code-server --port {self.port} --auth none --disable-telemetry\"\n",
    "        with subprocess.Popen(\n",
    "            [code_cmd],\n",
    "            shell=True,\n",
    "            stdout=subprocess.PIPE,\n",
    "            bufsize=1,\n",
    "            universal_newlines=True,\n",
    "        ) as proc:\n",
    "            for line in proc.stdout:\n",
    "                print(line, end=\"\")\n",
    "        \n",
    "    def __str__(self):\n",
    "        return f\"Remote Code runnning on {self.url}:{self.port} with password:{self.password} in colab envrionment:{IN_COLAB}\"\n",
    "        "
   ]
  },
  {
   "cell_type": "code",
   "execution_count": null,
   "metadata": {},
   "outputs": [],
   "source": [
    "#print(RemoteCode())"
   ]
  },
  {
   "cell_type": "code",
   "execution_count": null,
   "metadata": {},
   "outputs": [
    {
     "data": {
      "text/plain": [
       "([<NgrokTunnel: \"https://8aa1ab1b87eb.ngrok.io\" -> \"http://localhost:10000\">],\n",
       " 'https://7c31f6001eeb.ngrok.io')"
      ]
     },
     "execution_count": null,
     "metadata": {},
     "output_type": "execute_result"
    }
   ],
   "source": [
    "active_tunnels, url"
   ]
  },
  {
   "cell_type": "code",
   "execution_count": null,
   "metadata": {},
   "outputs": [],
   "source": [
    "# os.system(f\"fuser -n tcp -k {111111111}\")"
   ]
  },
  {
   "cell_type": "code",
   "execution_count": null,
   "metadata": {},
   "outputs": [],
   "source": []
  }
 ],
 "metadata": {
  "kernelspec": {
   "display_name": "Python 3",
   "language": "python",
   "name": "python3"
  }
 },
 "nbformat": 4,
 "nbformat_minor": 2
}
