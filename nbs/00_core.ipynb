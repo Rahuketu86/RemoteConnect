{
 "cells": [
  {
   "cell_type": "code",
   "execution_count": 1,
   "metadata": {
    "ExecuteTime": {
     "end_time": "2022-02-03T16:33:02.411914Z",
     "start_time": "2022-02-03T16:33:01.311061Z"
    }
   },
   "outputs": [],
   "source": [
    "#default_exp core\n",
    "from nbdev import *"
   ]
  },
  {
   "cell_type": "markdown",
   "metadata": {},
   "source": [
    "# core\n",
    "\n",
    "> This is core functionality for RemoteConnect"
   ]
  },
  {
   "cell_type": "code",
   "execution_count": 2,
   "metadata": {
    "ExecuteTime": {
     "end_time": "2022-02-03T16:33:02.439439Z",
     "start_time": "2022-02-03T16:33:02.435714Z"
    }
   },
   "outputs": [],
   "source": [
    "#hide\n",
    "from nbdev.showdoc import *"
   ]
  },
  {
   "cell_type": "code",
   "execution_count": 3,
   "metadata": {
    "ExecuteTime": {
     "end_time": "2022-02-03T16:33:02.470978Z",
     "start_time": "2022-02-03T16:33:02.462120Z"
    }
   },
   "outputs": [],
   "source": [
    "#export\n",
    "import os\n",
    "import subprocess\n",
    "import re\n",
    "import time\n",
    "from pyngrok import ngrok\n",
    "from fastcore.meta import delegates\n",
    "from fastcore.basics import in_colab\n",
    "from IPython import get_ipython\n",
    "import pathlib"
   ]
  },
  {
   "cell_type": "code",
   "execution_count": 4,
   "metadata": {
    "ExecuteTime": {
     "end_time": "2022-02-03T16:33:02.497256Z",
     "start_time": "2022-02-03T16:33:02.493518Z"
    }
   },
   "outputs": [],
   "source": [
    "#export\n",
    "def say_hello(to):\n",
    "    print(f\"Say hello to {to}\")"
   ]
  },
  {
   "cell_type": "code",
   "execution_count": 5,
   "metadata": {
    "ExecuteTime": {
     "end_time": "2022-02-03T16:33:02.622774Z",
     "start_time": "2022-02-03T16:33:02.619863Z"
    }
   },
   "outputs": [],
   "source": [
    "#export\n",
    "# IN_COLAB = 'google.colab' in str(get_ipython())\n",
    "# try:\n",
    "#     from google.colab import drive\n",
    "#     IN_COLAB = True\n",
    "# except ImportError:\n",
    "#     IN_COLAB = False"
   ]
  },
  {
   "cell_type": "code",
   "execution_count": 6,
   "metadata": {
    "ExecuteTime": {
     "end_time": "2022-02-03T16:33:02.935287Z",
     "start_time": "2022-02-03T16:33:02.931090Z"
    }
   },
   "outputs": [],
   "source": [
    "#hide\n",
    "\n",
    "# IN_COLAB = 'google.colab' in str(get_ipython())\n",
    "# if IN_COLAB:\n",
    "#     from google.colab import drive\n",
    "\n",
    "# IN_COLAB = False\n",
    "# try:\n",
    "#     from google.colab import drive\n",
    "\n",
    "#     IN_COLAB = True\n",
    "# except ImportError:\n",
    "#     IN_COLAB = False\n",
    "\n",
    "# for tunnel in active_tunnels:\n",
    "#     public_url = tunnel.public_url\n",
    "#     print(f\"Disconnecting {public_url}\")\n",
    "#     ngrok.disconnect(public_url)\n",
    "    \n",
    "# url = ngrok.connect(addr=10000)\n",
    "# print(f\"Code server can be assesed on : {url}\")"
   ]
  },
  {
   "cell_type": "code",
   "execution_count": 7,
   "metadata": {
    "ExecuteTime": {
     "end_time": "2022-02-03T16:33:03.119993Z",
     "start_time": "2022-02-03T16:33:03.115604Z"
    }
   },
   "outputs": [],
   "source": [
    "#hide\n",
    "def connect_to_localhost(port):\n",
    "    pass"
   ]
  },
  {
   "cell_type": "code",
   "execution_count": 8,
   "metadata": {
    "ExecuteTime": {
     "end_time": "2022-02-03T16:33:03.323698Z",
     "start_time": "2022-02-03T16:33:03.319677Z"
    }
   },
   "outputs": [],
   "source": [
    "#export\n",
    "def connect_to_telebit(port):\n",
    "    try:\n",
    "        s = subprocess.check_output(f\"~/telebit http {port}\", stderr=subprocess.STDOUT, shell=True)\n",
    "        url = re.findall('http[s]?://(?:[a-zA-Z]|[0-9]|[$-_@.&+]|[!*\\(\\),]|(?:%[0-9a-fA-F][0-9a-fA-F]))+', str(s))[0]\n",
    "        print(f\"Remote server can be assesed on : {url}\")\n",
    "        return url\n",
    "    except subprocess.CalledProcessError:\n",
    "        print(\"Need to install and register device with telebit first\")"
   ]
  },
  {
   "cell_type": "code",
   "execution_count": 9,
   "metadata": {
    "ExecuteTime": {
     "end_time": "2022-02-03T16:33:03.540141Z",
     "start_time": "2022-02-03T16:33:03.535514Z"
    }
   },
   "outputs": [],
   "source": [
    "# pathlib.Path.cwd()"
   ]
  },
  {
   "cell_type": "code",
   "execution_count": 10,
   "metadata": {
    "ExecuteTime": {
     "end_time": "2022-02-03T16:33:03.835384Z",
     "start_time": "2022-02-03T16:33:03.828938Z"
    }
   },
   "outputs": [],
   "source": [
    "#export\n",
    "def connect_to_localtunel(port):\n",
    "    try:\n",
    "        print(\"Inside localtunnel\")\n",
    "        print(\"IN_COLAB:\", in_colab())\n",
    "        if in_colab():\n",
    "            url_folder = pathlib.Path.cwd()\n",
    "            print(\"Installing localtunnel on colab\")\n",
    "            execute_cmd(\"npm install -g localtunnel\")\n",
    "            time.sleep(1)\n",
    "            print(\"Finished localtunnel Installation\")\n",
    "            execute_cmd(f\"nohup lt --port {port} --subdomain nbrahuketu>> {url_folder}/url.txt 2>&1 &\")\n",
    "            time.sleep(1)\n",
    "            print(\"Finished IN_COLAB\")\n",
    "        else: \n",
    "            url_folder = pathlib.Path.home()\n",
    "            execute_cmd(f\"lt --port {port} --subdomain nbrahuketu>> {url_folder}/url.txt 2>&1 &\")\n",
    "            time.sleep(1)\n",
    "        print(\"Reading Generated url file\")\n",
    "        s = pathlib.Path(f\"{url_folder}/url.txt\").open().read()\n",
    "#         print(s)\n",
    "        url = re.findall('http[s]?://(?:[a-zA-Z]|[0-9]|[$-_@.&+]|[!*\\(\\),]|(?:%[0-9a-fA-F][0-9a-fA-F]))+', str(s))\n",
    "#         print(url)\n",
    "        if isinstance(url, list): url = url[-1]\n",
    "        print(f\"Remote server can be assesed on : {url}\")\n",
    "        return url\n",
    "    except subprocess.CalledProcessError:\n",
    "        print(\"Need to install localtunnel first\")"
   ]
  },
  {
   "cell_type": "code",
   "execution_count": 11,
   "metadata": {
    "ExecuteTime": {
     "end_time": "2022-02-03T16:33:04.529269Z",
     "start_time": "2022-02-03T16:33:04.526403Z"
    }
   },
   "outputs": [],
   "source": [
    "# connect_to_localtunel(9001)"
   ]
  },
  {
   "cell_type": "code",
   "execution_count": 14,
   "metadata": {
    "ExecuteTime": {
     "end_time": "2022-02-03T16:33:05.264825Z",
     "start_time": "2022-02-03T16:33:05.130992Z"
    }
   },
   "outputs": [],
   "source": [
    "#hide\n",
    "# !cat ~/url.txt"
   ]
  },
  {
   "cell_type": "code",
   "execution_count": 15,
   "metadata": {
    "ExecuteTime": {
     "end_time": "2022-02-03T16:33:05.335473Z",
     "start_time": "2022-02-03T16:33:05.332567Z"
    }
   },
   "outputs": [],
   "source": [
    "#hide\n",
    "# !ssh -R 80:localhost:8080 ssh.localhost.run -y"
   ]
  },
  {
   "cell_type": "code",
   "execution_count": 16,
   "metadata": {
    "ExecuteTime": {
     "end_time": "2022-02-03T16:33:06.171243Z",
     "start_time": "2022-02-03T16:33:06.165898Z"
    }
   },
   "outputs": [],
   "source": [
    "#export\n",
    "def connect_to_ngrok(port, authtoken=None):\n",
    "    time.sleep(1)\n",
    "    try:\n",
    "        active_tunnels = ngrok.get_tunnels()\n",
    "        time.sleep(1)\n",
    "        for tunnel in active_tunnels:\n",
    "            public_url = tunnel.public_url\n",
    "            print(f\"Disconnecting {public_url}\")\n",
    "            ngrok.disconnect(public_url)\n",
    "            time.sleep(1)\n",
    "    except:\n",
    "        print(\"Some error in ngrok.get_tunnels()\")\n",
    "#     url = ngrok.connect(addr=port, options={\"bind_tls\":True})\n",
    "    if authtoken:ngrok.set_auth_token(authtoken)\n",
    "    url = ngrok.connect(addr=port, bind_tls=True)\n",
    "    time.sleep(1)\n",
    "    print(f\"Remote server can be assesed on : {url}\")\n",
    "    return url"
   ]
  },
  {
   "cell_type": "code",
   "execution_count": 17,
   "metadata": {
    "ExecuteTime": {
     "end_time": "2022-02-03T16:33:07.351235Z",
     "start_time": "2022-02-03T16:33:07.346936Z"
    }
   },
   "outputs": [],
   "source": [
    "#export\n",
    "def execute_cmd(cmd, show_cmd=None, verbose=True):\n",
    "    if not show_cmd:print(f\"Executing >>> {cmd}\")\n",
    "    else: print(show_cmd)\n",
    "    with subprocess.Popen(\n",
    "        [cmd],\n",
    "        shell=True,\n",
    "        stdout=subprocess.PIPE,\n",
    "        bufsize=1,\n",
    "        universal_newlines=True,\n",
    "    ) as proc:\n",
    "        for line in proc.stdout:\n",
    "            if verbose:print(line, end=\"\")"
   ]
  },
  {
   "cell_type": "code",
   "execution_count": 18,
   "metadata": {
    "ExecuteTime": {
     "end_time": "2022-02-03T16:33:07.871235Z",
     "start_time": "2022-02-03T16:33:07.867987Z"
    }
   },
   "outputs": [],
   "source": [
    "#export\n",
    "def mount_drive():\n",
    "    from google.colab import drive\n",
    "    drive.mount(\"/content/drive\")\n",
    "    print(\"Finished Mounting Drive\")"
   ]
  },
  {
   "cell_type": "markdown",
   "metadata": {},
   "source": [
    "## Setup Utilities"
   ]
  },
  {
   "cell_type": "markdown",
   "metadata": {},
   "source": [
    "### VSCode"
   ]
  },
  {
   "cell_type": "code",
   "execution_count": 19,
   "metadata": {
    "ExecuteTime": {
     "end_time": "2022-02-03T16:33:08.948018Z",
     "start_time": "2022-02-03T16:33:08.942243Z"
    }
   },
   "outputs": [],
   "source": [
    "#export\n",
    "def setup_vscode():\n",
    "    subprocess.run(\n",
    "            [\"wget\", \"https://code-server.dev/install.sh\"], stdout=subprocess.PIPE\n",
    "        )\n",
    "    subprocess.run([\"sh\", \"install.sh\"], stdout=subprocess.PIPE)\n",
    "    for ext in EXTENSIONS:\n",
    "        subprocess.run([\"code-server\", \"--install-extension\", f\"{ext}\"]) \n",
    "    "
   ]
  },
  {
   "cell_type": "markdown",
   "metadata": {},
   "source": [
    "### Julia"
   ]
  },
  {
   "cell_type": "code",
   "execution_count": 20,
   "metadata": {
    "ExecuteTime": {
     "end_time": "2022-02-03T16:33:10.113880Z",
     "start_time": "2022-02-03T16:33:10.109914Z"
    }
   },
   "outputs": [],
   "source": [
    "#export \n",
    "def setup_julia():\n",
    "    if in_colab():\n",
    "        subprocess.run(\n",
    "                [\"wget\", \"https://gist.githubusercontent.com/Rahuketu86/765ee2ecd59aa40c493fe6a10db606a4/raw/a3498236fb96109e0f6ed2ea8325cf8acafe75d0/install_julia_colab.sh\"], stdout=subprocess.PIPE\n",
    "            )\n",
    "        execute_cmd(\"bash install_julia_colab.sh\")\n",
    "    else:\n",
    "        subprocess.run(\n",
    "                [\"wget\", \"https://gist.githubusercontent.com/Rahuketu86/3543336b8fe4ea2c1cc7b6edcc96f975/raw/db6c562201ecf655b0bb82d7fcd2a16128bb0148/install_julia.sh\"], stdout=subprocess.PIPE\n",
    "            )\n",
    "        execute_cmd(\"bash install_julia.sh\")"
   ]
  },
  {
   "cell_type": "code",
   "execution_count": 21,
   "metadata": {
    "ExecuteTime": {
     "end_time": "2022-02-03T17:36:51.615548Z",
     "start_time": "2022-02-03T17:36:51.610900Z"
    }
   },
   "outputs": [],
   "source": [
    "#export\n",
    "def install_jupyter_extension(NOTEBOOK_EXTENSIONS, SERVER_EXTENSIONS, LAB_EXTENSIONS):\n",
    "    print(\"Installing Jupyter extensions\")\n",
    "    execute_cmd(\"jupyter contrib nbextension install --system\")\n",
    "    execute_cmd(\"jupyter nbextensions_configurator enable --system\")\n",
    "    for ext in NOTEBOOK_EXTENSIONS:\n",
    "        execute_cmd(f\"jupyter nbextension enable {ext}\")\n",
    "\n",
    "    for ext in SERVER_EXTENSIONS:\n",
    "        execute_cmd(f\"jupyter serverextension enable {ext}\")\n",
    "\n",
    "    for ext in LAB_EXTENSIONS:\n",
    "        execute_cmd(f\"jupyter labextension enable {ext}\")"
   ]
  },
  {
   "cell_type": "markdown",
   "metadata": {},
   "source": [
    "## Remote Apps"
   ]
  },
  {
   "cell_type": "markdown",
   "metadata": {},
   "source": [
    "## RemoteExecutor"
   ]
  },
  {
   "cell_type": "code",
   "execution_count": 22,
   "metadata": {
    "ExecuteTime": {
     "end_time": "2022-02-03T16:33:10.915731Z",
     "start_time": "2022-02-03T16:33:10.907490Z"
    }
   },
   "outputs": [],
   "source": [
    "#export\n",
    "class RemoteExecutor(object):\n",
    "    def __init__(self, port=9000, tunnel='ngrok', authtoken=None, password=None, ui='notebook',\n",
    "                 install_code=False, install_julia=False):\n",
    "        self.port = port\n",
    "        self.tunnel = tunnel\n",
    "        self.authtoken = authtoken\n",
    "        self.password = password\n",
    "        self.ui = ui\n",
    "        self.url = None\n",
    "        self.install_code = install_code\n",
    "        self.install_julia = install_julia\n",
    "        \n",
    "    def launch(self):\n",
    "        self.install()\n",
    "        print(f\"Inside lauch in_colab:{in_colab()}\")\n",
    "        if in_colab():\n",
    "            self.preinstall_colab()\n",
    "        self.start_server()\n",
    "        self.run()\n",
    "        \n",
    "    def preinstall_colab(self):\n",
    "        print(\"RemoteExecutor preinstall colab\")\n",
    "        if self.install_code : setup_vscode()\n",
    "        if self.install_julia : setup_julia()\n",
    "        self.install_extensions()  \n",
    "        \n",
    "    def install(self):\n",
    "        pass\n",
    "    \n",
    "    def install_extensions(self):\n",
    "        pass\n",
    "    \n",
    "    def start_server(self):\n",
    "        if self.tunnel == 'ngrok':\n",
    "            self.url = connect_to_ngrok(self.port, self.authtoken)\n",
    "        elif self.tunnel == 'telebit':\n",
    "            self.url = connect_to_telebit(self.port)\n",
    "        elif self.tunnel == 'localtunnel':\n",
    "            self.url = connect_to_localtunel(self.port)\n",
    "        else:\n",
    "            raise Exception(\"Tunnel not specified\")\n",
    "    \n",
    "    def run(self):\n",
    "        pass\n",
    "\n",
    "    def __str__(self):\n",
    "        return f\"{self.__class__.__name__} runnning on {self.url}:{self.port}  in colab envrionment:{IN_COLAB}\"\n",
    "        "
   ]
  },
  {
   "cell_type": "markdown",
   "metadata": {},
   "source": [
    "### Code"
   ]
  },
  {
   "cell_type": "code",
   "execution_count": 23,
   "metadata": {},
   "outputs": [],
   "source": [
    "#exports\n",
    "EXTENSIONS = [\"ms-python.python\", \"jithurjacob.nbpreviewer\"]"
   ]
  },
  {
   "cell_type": "code",
   "execution_count": 24,
   "metadata": {},
   "outputs": [],
   "source": [
    "#export\n",
    "@delegates()\n",
    "class RemoteCode(RemoteExecutor):\n",
    "    \"\"\" Install and launch an instance of Remote Code\"\"\"\n",
    "\n",
    "    def __init__(self, password=None, **kwargs):\n",
    "        super(RemoteCode, self).__init__(**kwargs)\n",
    "        self.password = password\n",
    "        \n",
    "    def preinstall_colab(self):\n",
    "        setup_vscode()\n",
    "        self.install_extensions()\n",
    "        \n",
    "    def install_extensions(self):\n",
    "        for ext in EXTENSIONS:\n",
    "            subprocess.run([\"code-server\", \"--install-extension\", f\"{ext}\"])\n",
    "    \n",
    "    def run(self):\n",
    "        os.system(f\"fuser -n tcp -k {self.port}\")\n",
    "        if self.password:\n",
    "            code_cmd = f\"PASSWORD={self.password} code-server --port {self.port} --disable-telemetry\"\n",
    "        else:\n",
    "            code_cmd = f\"code-server --port {self.port} --auth none --disable-telemetry\"\n",
    "        execute_cmd(code_cmd)"
   ]
  },
  {
   "cell_type": "markdown",
   "metadata": {},
   "source": [
    "### Jupyter"
   ]
  },
  {
   "cell_type": "code",
   "execution_count": 25,
   "metadata": {},
   "outputs": [],
   "source": [
    "#exports\n",
    "NOTEBOOK_EXTENSIONS = [\"toc2/main\", \"collapsible_headings/main\", \"execute_time/ExecuteTime\", \"codefolding/main\"]\n",
    "SERVER_EXTENSIONS=[\"jupyter_server_proxy\"]\n",
    "LAB_EXTENSIONS=[\"@jupyterlab/server-proxy\"]"
   ]
  },
  {
   "cell_type": "code",
   "execution_count": 26,
   "metadata": {
    "ExecuteTime": {
     "end_time": "2022-02-03T17:38:35.394397Z",
     "start_time": "2022-02-03T17:38:35.387319Z"
    }
   },
   "outputs": [],
   "source": [
    "#export\n",
    "@delegates()\n",
    "class RemoteJupyter(RemoteExecutor):\n",
    "    \"\"\" Install and launch an instance of Remote Jupyter\"\"\"\n",
    "    \n",
    "    def __init__(self, ui='notebook', **kwargs):\n",
    "        super(RemoteJupyter, self).__init__(**kwargs)\n",
    "        self.ui = ui\n",
    "        \n",
    "    def preinstall_colab(self):\n",
    "        print(\"Installing utilities for jupyter in colab\")\n",
    "        if self.install_code : setup_vscode()\n",
    "        if self.install_julia : setup_julia()\n",
    "        install_jupyter_extension(NOTEBOOK_EXTENSIONS, SERVER_EXTENSIONS, LAB_EXTENSIONS)\n",
    "        print(\"Finished preinstall colab in jupyter\")\n",
    "    \n",
    "    def install_extension(self):\n",
    "        print(\"Installing Jupyter extensions\")\n",
    "        execute_cmd(\"jupyter contrib nbextension install --system\")\n",
    "        execute_cmd(\"jupyter nbextensions_configurator enable --system\")\n",
    "#         subprocess.run([\"jupyter\", \"contrib\", \"nbextension\",\"install\",  \"--system\"], stdout=subprocess.PIPE)\n",
    "#         #nbextensions_configurator enable --user\n",
    "#         subprocess.run([\"jupyter\", \"nbextensions_configurator\",\"enable\",  \"--system\"], stdout=subprocess.PIPE)\n",
    "        for ext in NOTEBOOK_EXTENSIONS:\n",
    "            execute_cmd(f\"jupyter nbextension enable {ext}\")\n",
    "#             subprocess.run([\"jupyter\", \"nbextension\", \"enable\", ext], stdout=subprocess.PIPE)\n",
    "    \n",
    "        for ext in SERVER_EXTENSIONS:\n",
    "            execute_cmd(f\"jupyter serverextension enable {ext}\")\n",
    "#             subprocess.run([\"jupyter\", \"serverextension\", \"enable\", ext], stdout=subprocess.PIPE)\n",
    "            \n",
    "        for ext in LAB_EXTENSIONS:\n",
    "            execute_cmd(f\"jupyter labextension enable {ext}\")\n",
    "#             subprocess.run([\"jupyter\", \"labextension\", \"enable\", ext], stdout=subprocess.PIPE)\n",
    "            \n",
    "    def run(self):\n",
    "        os.system(f\"fuser -n tcp -k {self.port}\")\n",
    "        add_cmd = \" --allow-root\"\n",
    "        jupyter_cmd = f\"jupyter {self.ui} --NotebookApp.allow_remote_access=True  --NotebookApp.disable_check_xsrf=True --ip=0.0.0.0 --port={self.port}\"\n",
    "        if self.ui == 'lab':\n",
    "            jupyter_cmd = f\"jupyter {self.ui} --ip=0.0.0.0 --port={self.port} --no-browser\"\n",
    "        if in_colab(): jupyter_cmd = jupyter_cmd + add_cmd\n",
    "        execute_cmd(jupyter_cmd)"
   ]
  },
  {
   "cell_type": "markdown",
   "metadata": {},
   "source": [
    "### Pluto"
   ]
  },
  {
   "cell_type": "code",
   "execution_count": 26,
   "metadata": {
    "ExecuteTime": {
     "end_time": "2022-02-03T17:38:37.855788Z",
     "start_time": "2022-02-03T17:38:37.851167Z"
    }
   },
   "outputs": [],
   "source": [
    "#export\n",
    "@delegates()\n",
    "class RemotePluto(RemoteExecutor):\n",
    "    \"\"\" Install and launch an instance of Remote Pluto.jl for Julia\"\"\"\n",
    "\n",
    "    def __init__(self, **kwargs):\n",
    "        super(RemotePluto, self).__init__(**kwargs)\n",
    "        \n",
    "    def preinstall_colab(self):\n",
    "        setup_julia()\n",
    "        self.install_extensions()\n",
    "        \n",
    "    def run(self):\n",
    "        os.system(f\"fuser -n tcp -k {self.port}\")\n",
    "        print(self.url)\n",
    "        pluto_cmd = f'julia -e \"using Pluto;Pluto.run(port={self.port}, launch_browser=false, require_secret_for_open_links=false, require_secret_for_access=false)\"'\n",
    "        execute_cmd(pluto_cmd)"
   ]
  },
  {
   "cell_type": "code",
   "execution_count": null,
   "metadata": {},
   "outputs": [],
   "source": []
  },
  {
   "cell_type": "code",
   "execution_count": null,
   "metadata": {},
   "outputs": [],
   "source": []
  }
 ],
 "metadata": {
  "kernelspec": {
   "display_name": "Python [conda env:aiking] *",
   "language": "python",
   "name": "conda-env-aiking-py"
  },
  "language_info": {
   "codemirror_mode": {
    "name": "ipython",
    "version": 3
   },
   "file_extension": ".py",
   "mimetype": "text/x-python",
   "name": "python",
   "nbconvert_exporter": "python",
   "pygments_lexer": "ipython3",
   "version": "3.9.7"
  },
  "latex_envs": {
   "LaTeX_envs_menu_present": true,
   "autoclose": false,
   "autocomplete": true,
   "bibliofile": "biblio.bib",
   "cite_by": "apalike",
   "current_citInitial": 1,
   "eqLabelWithNumbers": true,
   "eqNumInitial": 1,
   "hotkeys": {
    "equation": "Ctrl-E",
    "itemize": "Ctrl-I"
   },
   "labels_anchors": false,
   "latex_user_defs": false,
   "report_style_numbering": false,
   "user_envs_cfg": false
  },
  "toc": {
   "base_numbering": 1,
   "nav_menu": {},
   "number_sections": true,
   "sideBar": true,
   "skip_h1_title": false,
   "title_cell": "Table of Contents",
   "title_sidebar": "Contents",
   "toc_cell": false,
   "toc_position": {},
   "toc_section_display": true,
   "toc_window_display": false
  },
  "varInspector": {
   "cols": {
    "lenName": 16,
    "lenType": 16,
    "lenVar": 40
   },
   "kernels_config": {
    "python": {
     "delete_cmd_postfix": "",
     "delete_cmd_prefix": "del ",
     "library": "var_list.py",
     "varRefreshCmd": "print(var_dic_list())"
    },
    "r": {
     "delete_cmd_postfix": ") ",
     "delete_cmd_prefix": "rm(",
     "library": "var_list.r",
     "varRefreshCmd": "cat(var_dic_list()) "
    }
   },
   "types_to_exclude": [
    "module",
    "function",
    "builtin_function_or_method",
    "instance",
    "_Feature"
   ],
   "window_display": false
  }
 },
 "nbformat": 4,
 "nbformat_minor": 4
}
