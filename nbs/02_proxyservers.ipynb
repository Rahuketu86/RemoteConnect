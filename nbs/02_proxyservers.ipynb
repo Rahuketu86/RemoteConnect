{
 "cells": [
  {
   "cell_type": "code",
   "execution_count": null,
   "metadata": {},
   "outputs": [],
   "source": [
    "#default_exp proxyservers\n",
    "from nbdev import *"
   ]
  },
  {
   "cell_type": "markdown",
   "metadata": {},
   "source": [
    "# proxyservers\n",
    "\n",
    "> This is a proxyservers module for RemoteConnect"
   ]
  },
  {
   "cell_type": "code",
   "execution_count": null,
   "metadata": {},
   "outputs": [],
   "source": [
    "#hide\n",
    "from nbdev.showdoc import *"
   ]
  },
  {
   "cell_type": "code",
   "execution_count": null,
   "metadata": {},
   "outputs": [],
   "source": [
    "#export\n",
    "from RemoteConnect.core import setup_vscode"
   ]
  },
  {
   "cell_type": "code",
   "execution_count": null,
   "metadata": {},
   "outputs": [],
   "source": [
    "#export\n",
    "def plutoserver():\n",
    "    return {\n",
    "        \"command\": [\"julia\", \"--optimize=0\", \"-e\", \"import Pluto; Pluto.run(host=\\\"0.0.0.0\\\", port={port}, launch_browser=false, require_secret_for_open_links=false, require_secret_for_access=false)\"],\n",
    "        \"timeout\": 60,\n",
    "        \"launcher_entry\": {\n",
    "            \"title\": \"Pluto.jl\",\n",
    "    },\n",
    "  }"
   ]
  },
  {
   "cell_type": "code",
   "execution_count": null,
   "metadata": {},
   "outputs": [],
   "source": [
    "#export\n",
    "def codeserver():\n",
    "    \"\"\"\n",
    "    Export codeserver as jupyter server proxy\n",
    "    \"\"\"\n",
    "    return {\n",
    "        \"command\": [\"code-server\", \"--port\", \"{port}\", \"--auth\",\"none\", \"--disable-telemetry\"],\n",
    "        \"timeout\":60,\n",
    "#         'absolute_url': True,\n",
    "        \"launcher_entry\": {\n",
    "            \"title\": \"codeserver\",\n",
    "#             'icon_path': get_icon_path(\"vscode.svg\")\n",
    "    },\n",
    "  }"
   ]
  },
  {
   "cell_type": "code",
   "execution_count": null,
   "metadata": {},
   "outputs": [],
   "source": []
  },
  {
   "cell_type": "code",
   "execution_count": null,
   "metadata": {},
   "outputs": [],
   "source": []
  },
  {
   "cell_type": "code",
   "execution_count": null,
   "metadata": {},
   "outputs": [],
   "source": []
  }
 ],
 "metadata": {
  "kernelspec": {
   "display_name": "Python 3",
   "language": "python",
   "name": "python3"
  }
 },
 "nbformat": 4,
 "nbformat_minor": 4
}
