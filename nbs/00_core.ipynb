{
 "cells": [
  {
   "cell_type": "code",
   "execution_count": null,
   "metadata": {},
   "outputs": [],
   "source": [
    "#default_exp core\n",
    "from nbdev import *"
   ]
  },
  {
   "cell_type": "markdown",
   "metadata": {},
   "source": [
    "# core\n",
    "\n",
    "> This is core functionality for RemoteConnect"
   ]
  },
  {
   "cell_type": "code",
   "execution_count": null,
   "metadata": {},
   "outputs": [],
   "source": [
    "#hide\n",
    "from nbdev.showdoc import *"
   ]
  },
  {
   "cell_type": "code",
   "execution_count": null,
   "metadata": {},
   "outputs": [],
   "source": [
    "#export\n",
    "# IN_COLAB = 'google.colab' in str(get_ipython())\n",
    "# if IN_COLAB:\n",
    "#     from google.colab import drive\n",
    "\n",
    "IN_COLAB = False\n",
    "try:\n",
    "    from google.colab import drive\n",
    "\n",
    "    IN_COLAB = True\n",
    "except ImportError:\n",
    "    IN_COLAB = False\n",
    "import os\n",
    "import subprocess\n",
    "import re\n",
    "import time\n",
    "from pyngrok import ngrok\n",
    "from fastcore.meta import delegates"
   ]
  },
  {
   "cell_type": "code",
   "execution_count": null,
   "metadata": {},
   "outputs": [],
   "source": [
    "#export\n",
    "def say_hello(to):\n",
    "    print(f\"Say hello to {to}\")"
   ]
  },
  {
   "cell_type": "code",
   "execution_count": null,
   "metadata": {},
   "outputs": [],
   "source": [
    "#hide\n",
    "\n",
    "# active_tunnels = ngrok.get_tunnels()\n",
    "# for tunnel in active_tunnels:\n",
    "#     public_url = tunnel.public_url\n",
    "#     print(f\"Disconnecting {public_url}\")\n",
    "#     ngrok.disconnect(public_url)\n",
    "    \n",
    "# url = ngrok.connect(addr=10000, options={\"bind_tls\":True})\n",
    "# print(f\"Code server can be assesed on : {url}\")"
   ]
  },
  {
   "cell_type": "code",
   "execution_count": null,
   "metadata": {},
   "outputs": [],
   "source": [
    "#hide\n",
    "def connect_to_localhost(port):\n",
    "    pass"
   ]
  },
  {
   "cell_type": "code",
   "execution_count": null,
   "metadata": {},
   "outputs": [],
   "source": [
    "#export\n",
    "def connect_to_telebit(port):\n",
    "    try:\n",
    "        s = subprocess.check_output(f\"~/telebit http {port}\", stderr=subprocess.STDOUT, shell=True)\n",
    "        url = re.findall('http[s]?://(?:[a-zA-Z]|[0-9]|[$-_@.&+]|[!*\\(\\),]|(?:%[0-9a-fA-F][0-9a-fA-F]))+', str(s))[0]\n",
    "        print(f\"Remote server can be assesed on : {url}\")\n",
    "        return url\n",
    "    except CalledProcessError:\n",
    "        print(\"Need to install and register device with telebit first\")"
   ]
  },
  {
   "cell_type": "code",
   "execution_count": null,
   "metadata": {},
   "outputs": [],
   "source": [
    "#hide\n",
    "# connect_to_telebit(5000)    "
   ]
  },
  {
   "cell_type": "code",
   "execution_count": null,
   "metadata": {},
   "outputs": [],
   "source": [
    "#hide\n",
    "# !ssh -R 80:localhost:8080 ssh.localhost.run -y"
   ]
  },
  {
   "cell_type": "code",
   "execution_count": null,
   "metadata": {},
   "outputs": [],
   "source": [
    "#export\n",
    "def connect_to_ngrok(port, authtoken=None):\n",
    "    time.sleep(1)\n",
    "    try:\n",
    "        active_tunnels = ngrok.get_tunnels()\n",
    "        time.sleep(1)\n",
    "        for tunnel in active_tunnels:\n",
    "            public_url = tunnel.public_url\n",
    "            print(f\"Disconnecting {public_url}\")\n",
    "            ngrok.disconnect(public_url)\n",
    "            time.sleep(1)\n",
    "    except:\n",
    "        print(\"Some error in ngrok.get_tunnels()\")\n",
    "#     url = ngrok.connect(addr=port, options={\"bind_tls\":True})\n",
    "    if authtoken:ngrok.set_auth_token(authtoken)\n",
    "    url = ngrok.connect(addr=port, bind_tls=True)\n",
    "    time.sleep(1)\n",
    "    print(f\"Remote server can be assesed on : {url}\")\n",
    "    return url"
   ]
  },
  {
   "cell_type": "code",
   "execution_count": null,
   "metadata": {},
   "outputs": [],
   "source": [
    "#export\n",
    "def execute_cmd(cmd):\n",
    "    print(f\"Executing >>> {cmd}\")\n",
    "    with subprocess.Popen(\n",
    "        [cmd],\n",
    "        shell=True,\n",
    "        stdout=subprocess.PIPE,\n",
    "        bufsize=1,\n",
    "        universal_newlines=True,\n",
    "    ) as proc:\n",
    "        for line in proc.stdout:\n",
    "            print(line, end=\"\")"
   ]
  },
  {
   "cell_type": "code",
   "execution_count": null,
   "metadata": {},
   "outputs": [],
   "source": [
    "#export\n",
    "def mount_drive():\n",
    "    drive.mount(\"/content/drive\")"
   ]
  },
  {
   "cell_type": "markdown",
   "metadata": {},
   "source": [
    "## Setup Utilities"
   ]
  },
  {
   "cell_type": "markdown",
   "metadata": {},
   "source": [
    "### VSCode"
   ]
  },
  {
   "cell_type": "code",
   "execution_count": null,
   "metadata": {},
   "outputs": [],
   "source": [
    "#export\n",
    "def setup_vscode():\n",
    "    subprocess.run(\n",
    "            [\"wget\", \"https://code-server.dev/install.sh\"], stdout=subprocess.PIPE\n",
    "        )\n",
    "    subprocess.run([\"sh\", \"install.sh\"], stdout=subprocess.PIPE)\n",
    "    for ext in EXTENSIONS:\n",
    "        subprocess.run([\"code-server\", \"--install-extension\", f\"{ext}\"]) \n",
    "    "
   ]
  },
  {
   "cell_type": "markdown",
   "metadata": {},
   "source": [
    "### Julia"
   ]
  },
  {
   "cell_type": "code",
   "execution_count": null,
   "metadata": {},
   "outputs": [],
   "source": [
    "#export \n",
    "def setup_julia():\n",
    "    if IN_COLAB:\n",
    "        subprocess.run(\n",
    "                [\"wget\", \"https://gist.githubusercontent.com/Rahuketu86/765ee2ecd59aa40c493fe6a10db606a4/raw/a3498236fb96109e0f6ed2ea8325cf8acafe75d0/install_julia_colab.sh\"], stdout=subprocess.PIPE\n",
    "            )\n",
    "        execute_cmd(\"bash install_julia_colab.sh\")\n",
    "    else:\n",
    "        subprocess.run(\n",
    "                [\"wget\", \"https://gist.githubusercontent.com/Rahuketu86/3543336b8fe4ea2c1cc7b6edcc96f975/raw/db6c562201ecf655b0bb82d7fcd2a16128bb0148/install_julia.sh\"], stdout=subprocess.PIPE\n",
    "            )\n",
    "        execute_cmd(\"bash install_julia.sh\")"
   ]
  },
  {
   "cell_type": "markdown",
   "metadata": {},
   "source": [
    "## Remote Apps"
   ]
  },
  {
   "cell_type": "markdown",
   "metadata": {},
   "source": [
    "## RemoteExecutor"
   ]
  },
  {
   "cell_type": "code",
   "execution_count": null,
   "metadata": {},
   "outputs": [],
   "source": [
    "#export\n",
    "class RemoteExecutor(object):\n",
    "    def __init__(self, port=9000, tunnel='ngrok', authtoken=None, password=None, ui='notebook'):\n",
    "        self.port = port\n",
    "        self.tunnel = tunnel\n",
    "        self.authtoken = authtoken\n",
    "        self.password = password\n",
    "        self.ui = ui\n",
    "        self.url = None\n",
    "        \n",
    "    def launch(self):\n",
    "        self.install()\n",
    "        if IN_COLAB:self.preinstall_colab()\n",
    "        self.start_server()\n",
    "        self.run()\n",
    "        \n",
    "    def preinstall_colab(self):\n",
    "        setup_vscode()\n",
    "        setup_julia()\n",
    "        self.install_extensions()  \n",
    "        \n",
    "    def install(self):\n",
    "        pass\n",
    "    \n",
    "    def install_extensions(self):\n",
    "        pass\n",
    "    \n",
    "    def start_server(self):\n",
    "        if self.tunnel == 'ngrok':\n",
    "            self.url = connect_to_ngrok(self.port, self.authtoken)\n",
    "        elif self.tunnel == 'telebit':\n",
    "            self.url = connect_to_telebit(self.port)\n",
    "        else:\n",
    "            raise Exception(\"Tunnel not specified\")\n",
    "    \n",
    "    def run(self):\n",
    "        pass\n",
    "\n",
    "    def __str__(self):\n",
    "        return f\"{self.__class__.__name__} runnning on {self.url}:{self.port}  in colab envrionment:{IN_COLAB}\"\n",
    "        "
   ]
  },
  {
   "cell_type": "markdown",
   "metadata": {},
   "source": [
    "### Code"
   ]
  },
  {
   "cell_type": "code",
   "execution_count": null,
   "metadata": {},
   "outputs": [],
   "source": [
    "#exports\n",
    "EXTENSIONS = [\"ms-python.python\", \"jithurjacob.nbpreviewer\"]"
   ]
  },
  {
   "cell_type": "code",
   "execution_count": null,
   "metadata": {},
   "outputs": [],
   "source": [
    "#export\n",
    "@delegates()\n",
    "class RemoteCode(RemoteExecutor):\n",
    "    \"\"\" Install and launch an instance of Remote Code\"\"\"\n",
    "\n",
    "    def __init__(self, password=None, **kwargs):\n",
    "        super(RemoteCode, self).__init__(**kwargs)\n",
    "        self.password = password\n",
    "        \n",
    "    def preinstall_colab(self):\n",
    "        setup_vscode()\n",
    "        self.install_extensions()\n",
    "        \n",
    "    def install_extensions(self):\n",
    "        for ext in EXTENSIONS:\n",
    "            subprocess.run([\"code-server\", \"--install-extension\", f\"{ext}\"])\n",
    "    \n",
    "    def run(self):\n",
    "        os.system(f\"fuser -n tcp -k {self.port}\")\n",
    "        if self.password:\n",
    "            code_cmd = f\"PASSWORD={self.password} code-server --port {self.port} --disable-telemetry\"\n",
    "        else:\n",
    "            code_cmd = f\"code-server --port {self.port} --auth none --disable-telemetry\"\n",
    "        execute_cmd(code_cmd)"
   ]
  },
  {
   "cell_type": "markdown",
   "metadata": {},
   "source": [
    "### Jupyter"
   ]
  },
  {
   "cell_type": "code",
   "execution_count": null,
   "metadata": {},
   "outputs": [],
   "source": [
    "#exports\n",
    "NOTEBOOK_EXTENSIONS = [\"toc2/main\", \"collapsible_headings/main\", \"execute_time/ExecuteTime\", \"codefolding/main\"]\n",
    "SERVER_EXTENSIONS=[\"jupyter_server_proxy\"]\n",
    "LAB_EXTENSIONS=[\"@jupyterlab/server-proxy\"]"
   ]
  },
  {
   "cell_type": "code",
   "execution_count": null,
   "metadata": {},
   "outputs": [],
   "source": [
    "#export\n",
    "@delegates()\n",
    "class RemoteJupyter(RemoteExecutor):\n",
    "    \"\"\" Install and launch an instance of Remote Jupyter\"\"\"\n",
    "    \n",
    "    def __init__(self, ui='notebook', **kwargs):\n",
    "        super(RemoteJupyter, self).__init__(**kwargs)\n",
    "        self.ui = ui\n",
    "        \n",
    "    def install_extension(self):\n",
    "        subprocess.run([\"jupyter\", \"contrib\", \"nbextension\",\"install\",  \"--system\"], stdout=subprocess.PIPE)\n",
    "        #nbextensions_configurator enable --user\n",
    "        subprocess.run([\"jupyter\", \"nbextensions_configurator\",\"enable\",  \"--system\"], stdout=subprocess.PIPE)\n",
    "        for ext in NOTEBOOK_EXTENSIONS:\n",
    "            subprocess.run([\"jupyter\", \"nbextension\", \"enable\", ext], stdout=subprocess.PIPE) \n",
    "    \n",
    "        for ext in SERVER_EXTENSIONS:\n",
    "            subprocess.run([\"jupyter\", \"serverextension\", \"enable\", ext], stdout=subprocess.PIPE)\n",
    "            \n",
    "        for ext in LAB_EXTENSIONS:\n",
    "            subprocess.run([\"jupyter\", \"labextension\", \"enable\", ext], stdout=subprocess.PIPE)\n",
    "            \n",
    "    def run(self):\n",
    "        os.system(f\"fuser -n tcp -k {self.port}\")\n",
    "        jupyter_cmd = f\"jupyter {self.ui} --NotebookApp.allow_remote_access=True  --NotebookApp.disable_check_xsrf=True --ip=0.0.0.0 --port={self.port}\"\n",
    "        if self.ui == 'lab':\n",
    "            jupyter_cmd = f\"jupyter {self.ui} --ip=0.0.0.0 --port={self.port} --no-browser\"\n",
    "        execute_cmd(jupyter_cmd)"
   ]
  },
  {
   "cell_type": "markdown",
   "metadata": {},
   "source": [
    "### Pluto"
   ]
  },
  {
   "cell_type": "code",
   "execution_count": null,
   "metadata": {},
   "outputs": [],
   "source": [
    "#export\n",
    "@delegates()\n",
    "class RemotePluto(RemoteExecutor):\n",
    "    \"\"\" Install and launch an instance of Remote Pluto.jl for Julia\"\"\"\n",
    "\n",
    "    def __init__(self, **kwargs):\n",
    "        super(RemotePluto, self).__init__(**kwargs)\n",
    "        \n",
    "    def preinstall_colab(self):\n",
    "        setup_julia()\n",
    "        self.install_extensions()\n",
    "        \n",
    "    def run(self):\n",
    "        os.system(f\"fuser -n tcp -k {self.port}\")\n",
    "        print(self.url)\n",
    "        pluto_cmd = f'julia -e \"using Pluto;Pluto.run(port={self.port}, launch_browser=false, require_secret_for_open_links=false, require_secret_for_access=false)\"'\n",
    "        execute_cmd(pluto_cmd)"
   ]
  },
  {
   "cell_type": "code",
   "execution_count": null,
   "metadata": {},
   "outputs": [],
   "source": [
    "# class RemoteCode:\n",
    "#     \"\"\" Install and launch an instance of Remote Code\"\"\"\n",
    "#     def __init__(self, port=10000, password=None, tunnel='ngrok'):\n",
    "#         self.port = port\n",
    "#         self.tunnel = tunnel\n",
    "#         self.password = password\n",
    "#         self._mount = IN_COLAB\n",
    "#         self.url = None\n",
    "#         self._install_code()\\\n",
    "#         self._install_extensions()\n",
    "#         self._start_server()\n",
    "#         self._run_code()\n",
    "        \n",
    "#     def _install_code(self):\n",
    "#         subprocess.run(\n",
    "#             [\"wget\", \"https://code-server.dev/install.sh\"], stdout=subprocess.PIPE\n",
    "#         )\n",
    "#         subprocess.run([\"sh\", \"install.sh\"], stdout=subprocess.PIPE)\n",
    "\n",
    "#     def _install_extensions(self):\n",
    "#         for ext in EXTENSIONS:\n",
    "#             subprocess.run([\"code-server\", \"--install-extension\", f\"{ext}\"]) \n",
    "            \n",
    "#     def _start_server(self):\n",
    "#         if self.tunnel == 'ngrok':\n",
    "#             self.url = connect_to_ngrok(self.port)\n",
    "#         elif self.tunnel == 'telebit':\n",
    "#             self.url = connect_to_telebit(self.port)\n",
    "#         else:\n",
    "#             raise Exception(\"Tunnel not specified\")\n",
    "        \n",
    "#     def _run_code(self):\n",
    "#         os.system(f\"fuser -n tcp -k {self.port}\")\n",
    "# #         if IN_COLAB:\n",
    "# #             drive.mount(\"/content/drive\")\n",
    "#         if self.password:\n",
    "#             code_cmd = f\"PASSWORD={self.password} code-server --port {self.port} --disable-telemetry\"\n",
    "#         else:\n",
    "#             code_cmd = f\"code-server --port {self.port} --auth none --disable-telemetry\"\n",
    "#         execute_cmd(code_cmd)\n",
    "        \n",
    "#     def __str__(self):\n",
    "#         return f\"Remote Code runnning on {self.url}:{self.port} with password:{self.password} in colab envrionment:{IN_COLAB}\"\n",
    "        "
   ]
  },
  {
   "cell_type": "code",
   "execution_count": null,
   "metadata": {},
   "outputs": [],
   "source": [
    "# class RemoteJupyter:\n",
    "#     \"\"\" Install and launch an instance of Remote Jupyter\"\"\"\n",
    "#     def __init__(self, port=9000, ui='notebook', tunnel='ngrok'):\n",
    "#         self.port = port\n",
    "#         self.tunnel = tunnel\n",
    "#         self._mount = IN_COLAB\n",
    "#         self.url = None\n",
    "#         self.ui = ui\n",
    "#         if IN_COLAB:\n",
    "#             self._install_extensions()\n",
    "#             setup_vscode()\n",
    "#             setup_julia()\n",
    "#         self._start_server()\n",
    "#         self._run_jupyter()\n",
    "            \n",
    "#     def _install_extensions(self):\n",
    "#         subprocess.run([\"jupyter\", \"contrib\", \"nbextension\",\"install\",  \"--system\"], stdout=subprocess.PIPE)\n",
    "#         #nbextensions_configurator enable --user\n",
    "#         subprocess.run([\"jupyter\", \"nbextensions_configurator\",\"enable\",  \"--system\"], stdout=subprocess.PIPE)\n",
    "#         for ext in NOTEBOOK_EXTENSIONS:\n",
    "#             subprocess.run([\"jupyter\", \"nbextension\", \"enable\", ext], stdout=subprocess.PIPE)  \n",
    "#         for ext in SERVER_EXTENSIONS:\n",
    "#             subprocess.run([\"jupyter\", \"serverextension\", \"enable\", ext], stdout=subprocess.PIPE)\n",
    "            \n",
    "#         for ext in LAB_EXTENSIONS:\n",
    "#             subprocess.run([\"jupyter\", \"labextension\", \"enable\", ext], stdout=subprocess.PIPE)\n",
    "\n",
    "#     def _start_server(self):\n",
    "#         if self.tunnel == 'ngrok':\n",
    "#             self.url = connect_to_ngrok(self.port)\n",
    "#         elif self.tunnel == 'telebit':\n",
    "#             self.url = connect_to_telebit(self.port)\n",
    "#         else:\n",
    "#             raise Exception(\"Tunnel not specified\")\n",
    "        \n",
    "#     def _run_jupyter(self):\n",
    "#         os.system(f\"fuser -n tcp -k {self.port}\")\n",
    "# #         print(self.url)\n",
    "# #         if IN_COLAB:\n",
    "# #             drive.mount(\"/content/drive\")\n",
    "#         jupyter_cmd = f\"jupyter {self.ui} --NotebookApp.allow_remote_access=True  --NotebookApp.disable_check_xsrf=True --ip=0.0.0.0 --port={self.port}\"\n",
    "#         if self.ui == 'lab':\n",
    "#             jupyter_cmd = f\"jupyter {self.ui} --ip=0.0.0.0 --port={self.port} --no-browser\"\n",
    "#         execute_cmd(jupyter_cmd)\n",
    "        \n",
    "#     def __str__(self):\n",
    "#         return f\"Remote Jupyter runnning on {self.url}:{self.port} with password:{self.password} in colab envrionment:{IN_COLAB}\""
   ]
  },
  {
   "cell_type": "code",
   "execution_count": null,
   "metadata": {},
   "outputs": [],
   "source": [
    "# class RemotePluto:\n",
    "#     \"\"\" Install and launch an instance of Remote Pluto.jl for Julia⌈\"\"\"\n",
    "#     def __init__(self, port=9000, tunnel='ngrok'):\n",
    "#         self.port = port\n",
    "#         self.tunnel = tunnel\n",
    "#         self._mount = IN_COLAB\n",
    "#         setup_julia()\n",
    "#         self._start_server()\n",
    "#         self._run_pluto()\n",
    "            \n",
    "\n",
    "#     def _start_server(self):\n",
    "#         if self.tunnel == 'ngrok':\n",
    "#             self.url = connect_to_ngrok(self.port)\n",
    "#         elif self.tunnel == 'telebit':\n",
    "#             self.url = connect_to_telebit(self.port)\n",
    "#         else:\n",
    "#             raise Exception(\"Tunnel not specified\")\n",
    "        \n",
    "#     def _run_pluto(self):\n",
    "#         os.system(f\"fuser -n tcp -k {self.port}\")\n",
    "#         print(self.url)\n",
    "#         pluto_cmd = f'julia -e \"using Pluto;Pluto.run(port={self.port}, launch_browser=false, require_secret_for_open_links=false, require_secret_for_access=false)\"'\n",
    "#         execute_cmd(pluto_cmd)\n",
    "        \n",
    "#     def __str__(self):\n",
    "#         return f\"Remote Pluto runnning on {self.url}:{self.port} with password:{self.password} in colab envrionment:{IN_COLAB}\""
   ]
  },
  {
   "cell_type": "code",
   "execution_count": null,
   "metadata": {},
   "outputs": [],
   "source": [
    "# print(RemotePluto(tunnel='telebit'))"
   ]
  },
  {
   "cell_type": "code",
   "execution_count": null,
   "metadata": {},
   "outputs": [],
   "source": []
  }
 ],
 "metadata": {
  "kernelspec": {
   "display_name": "Python [conda env:aiking] *",
   "language": "python",
   "name": "conda-env-aiking-py"
  }
 },
 "nbformat": 4,
 "nbformat_minor": 4
}
