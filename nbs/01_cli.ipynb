{
 "cells": [
  {
   "cell_type": "code",
   "execution_count": 1,
   "metadata": {
    "ExecuteTime": {
     "end_time": "2022-02-05T13:46:16.221887Z",
     "start_time": "2022-02-05T13:46:14.597697Z"
    }
   },
   "outputs": [],
   "source": [
    "#default_exp cli\n",
    "from nbdev import *\n",
    "# %nbdev_default_export cli"
   ]
  },
  {
   "cell_type": "markdown",
   "metadata": {},
   "source": [
    "# cli\n",
    "\n",
    "> This is a cli module for RemoteConnect"
   ]
  },
  {
   "cell_type": "code",
   "execution_count": null,
   "metadata": {},
   "outputs": [],
   "source": [
    "#hide\n",
    "from nbdev.showdoc import *"
   ]
  },
  {
   "cell_type": "code",
   "execution_count": 29,
   "metadata": {
    "ExecuteTime": {
     "end_time": "2022-02-06T14:02:18.705045Z",
     "start_time": "2022-02-06T14:02:18.701066Z"
    }
   },
   "outputs": [],
   "source": [
    "#export\n",
    "from fastcore.script import call_parse, Param, bool_arg\n",
    "from fastcore.basics import in_colab\n",
    "from RemoteConnect.core import RemoteCode, RemoteJupyter, RemotePluto, mount_drive, connect_to_ngrok\n",
    "import math\n",
    "import pandas as pd\n",
    "import logging\n",
    "import pathlib"
   ]
  },
  {
   "cell_type": "code",
   "execution_count": 30,
   "metadata": {
    "ExecuteTime": {
     "end_time": "2022-02-06T14:02:19.778570Z",
     "start_time": "2022-02-06T14:02:19.773504Z"
    }
   },
   "outputs": [
    {
     "data": {
      "text/plain": [
       "<Logger cli (DEBUG)>"
      ]
     },
     "execution_count": 30,
     "metadata": {},
     "output_type": "execute_result"
    }
   ],
   "source": [
    "#export\n",
    "app_logger = logging.getLogger('cli'); app_logger"
   ]
  },
  {
   "cell_type": "markdown",
   "metadata": {},
   "source": [
    "## Start Code"
   ]
  },
  {
   "cell_type": "code",
   "execution_count": 31,
   "metadata": {
    "ExecuteTime": {
     "end_time": "2022-02-06T14:02:20.229507Z",
     "start_time": "2022-02-06T14:02:20.221910Z"
    }
   },
   "outputs": [],
   "source": [
    "#export\n",
    "@call_parse\n",
    "def start_code(port:Param(\"Port to Start Code\", type=int)=10000, \n",
    "               password:Param(\"Password to Start Code\", type=str)=None, \n",
    "               tunnel:Param(\"Tunel Type\", type=str)='ngrok',\n",
    "               authtoken:Param(\"Tunnel Authtoken for ngrok\", type=str)=None):\n",
    "    \"Starts Code Server\"\n",
    "    if in_colab(): mount_drive()\n",
    "    remote = RemoteCode(password=password, port=port, tunnel=tunnel, authtoken=authtoken)\n",
    "    remote.launch()"
   ]
  },
  {
   "cell_type": "markdown",
   "metadata": {},
   "source": [
    "## Start Jupyter"
   ]
  },
  {
   "cell_type": "code",
   "execution_count": 32,
   "metadata": {
    "ExecuteTime": {
     "end_time": "2022-02-06T14:02:20.600762Z",
     "start_time": "2022-02-06T14:02:20.592130Z"
    }
   },
   "outputs": [],
   "source": [
    "#export\n",
    "@call_parse\n",
    "def start_jupyter(port:Param(\"Port to Start Jupyter\", type=int)=9000, \n",
    "                  ui:Param(\"Interface to start\", type=str)='notebook',\n",
    "                  tunnel:Param(\"Tunel Type\", type=str)='ngrok',\n",
    "                  authtoken:Param(\"Tunnel Authtoken for ngrok\", type=str)=None,\n",
    "                  subdomain:Param(\"Add a subdomain only for localtunnel\", type=str)=None,\n",
    "                  install_code:Param(\"Flag to install code\", type=bool)=False,\n",
    "                  install_julia:Param(\"Flag to install code\", type=bool)=False,\n",
    "                  ):\n",
    "    \"Starts Jupyter\"\n",
    "    if in_colab(): \n",
    "        print(\"Mounting Drive\")\n",
    "        mount_drive()\n",
    "    remote = RemoteJupyter(port=port, \n",
    "                           ui=ui, \n",
    "                           tunnel=tunnel, \n",
    "                           authtoken=authtoken,\n",
    "                           subdomain=subdomain,\n",
    "                           install_code=install_code, \n",
    "                           install_julia=install_julia\n",
    "                          )\n",
    "    remote.launch()"
   ]
  },
  {
   "cell_type": "code",
   "execution_count": 33,
   "metadata": {
    "ExecuteTime": {
     "end_time": "2022-02-06T14:02:20.798285Z",
     "start_time": "2022-02-06T14:02:20.795391Z"
    }
   },
   "outputs": [],
   "source": [
    "# start_jupyter(tunnel=\"telebit\")"
   ]
  },
  {
   "cell_type": "markdown",
   "metadata": {},
   "source": [
    "## Start Pluto"
   ]
  },
  {
   "cell_type": "code",
   "execution_count": 34,
   "metadata": {
    "ExecuteTime": {
     "end_time": "2022-02-06T14:02:21.148381Z",
     "start_time": "2022-02-06T14:02:21.140656Z"
    }
   },
   "outputs": [],
   "source": [
    "#export\n",
    "@call_parse\n",
    "def start_pluto(port:Param(\"Port to Start Jupyter\", type=int)=9000,\n",
    "                tunnel:Param(\"Tunel Type\", type=str)='ngrok',\n",
    "                authtoken:Param(\"Tunnel Authtoken for ngrok\", type=str)=None):\n",
    "    \"Starts Pluto.jl reactive notebook\"\n",
    "    if in_colab(): mount_drive()\n",
    "    remote = RemotePluto(port=port, tunnel=tunnel, authtoken=authtoken)\n",
    "    remote.launch()"
   ]
  },
  {
   "cell_type": "code",
   "execution_count": 35,
   "metadata": {
    "ExecuteTime": {
     "end_time": "2022-02-06T14:02:21.325064Z",
     "start_time": "2022-02-06T14:02:21.319552Z"
    }
   },
   "outputs": [],
   "source": [
    "#export\n",
    "def _convert_size(size_bytes):\n",
    "    if size_bytes == 0:\n",
    "        return \"0B\"\n",
    "    size_name = (\"B\", \"KB\", \"MB\", \"GB\", \"TB\", \"PB\", \"EB\", \"ZB\", \"YB\")\n",
    "    i = int(math.floor(math.log(size_bytes, 1024)))\n",
    "    p = math.pow(1024, i)\n",
    "    s = round(size_bytes / p, 2)\n",
    "    return \"%s %s\" % (s, size_name[i])"
   ]
  },
  {
   "cell_type": "code",
   "execution_count": 36,
   "metadata": {
    "ExecuteTime": {
     "end_time": "2022-02-06T14:02:21.512729Z",
     "start_time": "2022-02-06T14:02:21.507606Z"
    }
   },
   "outputs": [
    {
     "data": {
      "text/plain": [
       "'9.77 MB'"
      ]
     },
     "execution_count": 36,
     "metadata": {},
     "output_type": "execute_result"
    }
   ],
   "source": [
    "_convert_size(10240000)"
   ]
  },
  {
   "cell_type": "code",
   "execution_count": 37,
   "metadata": {
    "ExecuteTime": {
     "end_time": "2022-02-06T14:02:21.717083Z",
     "start_time": "2022-02-06T14:02:21.708152Z"
    }
   },
   "outputs": [],
   "source": [
    "#export\n",
    "@call_parse\n",
    "def fsize(fldr:Param(\"Pathstring of folder to measure size\")=\".\"):\n",
    "    path = pathlib.Path(fldr).resolve()\n",
    "    app_logger.info(f\"Current folder: {path}\")\n",
    "\n",
    "    with pd.option_context('display.max_rows', None,\n",
    "                           'display.max_columns', None,\n",
    "                           'display.width', 10000,\n",
    "                           'display.precision', 3,\n",
    "                           'display.colheader_justify', 'left'):\n",
    "        df = pd.DataFrame([{\"Name\":p.name, \"Size\":_convert_size(p.stat().st_size), \"Bytes\":p.stat().st_size} for p in path.ls()])\n",
    "        app_logger.info(f\"Current foldersize: {_convert_size(df['Bytes'].sum())}\")\n",
    "        print(df.sort_values(by='Bytes').drop('Bytes', axis=1).reset_index(drop=True))"
   ]
  },
  {
   "cell_type": "code",
   "execution_count": null,
   "metadata": {},
   "outputs": [],
   "source": []
  },
  {
   "cell_type": "code",
   "execution_count": null,
   "metadata": {},
   "outputs": [],
   "source": []
  }
 ],
 "metadata": {
  "kernelspec": {
   "display_name": "Python 3 (ipykernel)",
   "language": "python",
   "name": "python3"
  },
  "language_info": {
   "codemirror_mode": {
    "name": "ipython",
    "version": 3
   },
   "file_extension": ".py",
   "mimetype": "text/x-python",
   "name": "python",
   "nbconvert_exporter": "python",
   "pygments_lexer": "ipython3",
   "version": "3.9.7"
  },
  "latex_envs": {
   "LaTeX_envs_menu_present": true,
   "autoclose": false,
   "autocomplete": true,
   "bibliofile": "biblio.bib",
   "cite_by": "apalike",
   "current_citInitial": 1,
   "eqLabelWithNumbers": true,
   "eqNumInitial": 1,
   "hotkeys": {
    "equation": "Ctrl-E",
    "itemize": "Ctrl-I"
   },
   "labels_anchors": false,
   "latex_user_defs": false,
   "report_style_numbering": false,
   "user_envs_cfg": false
  },
  "toc": {
   "base_numbering": 1,
   "nav_menu": {},
   "number_sections": true,
   "sideBar": true,
   "skip_h1_title": false,
   "title_cell": "Table of Contents",
   "title_sidebar": "Contents",
   "toc_cell": false,
   "toc_position": {},
   "toc_section_display": true,
   "toc_window_display": false
  },
  "varInspector": {
   "cols": {
    "lenName": 16,
    "lenType": 16,
    "lenVar": 40
   },
   "kernels_config": {
    "python": {
     "delete_cmd_postfix": "",
     "delete_cmd_prefix": "del ",
     "library": "var_list.py",
     "varRefreshCmd": "print(var_dic_list())"
    },
    "r": {
     "delete_cmd_postfix": ") ",
     "delete_cmd_prefix": "rm(",
     "library": "var_list.r",
     "varRefreshCmd": "cat(var_dic_list()) "
    }
   },
   "types_to_exclude": [
    "module",
    "function",
    "builtin_function_or_method",
    "instance",
    "_Feature"
   ],
   "window_display": false
  }
 },
 "nbformat": 4,
 "nbformat_minor": 4
}
