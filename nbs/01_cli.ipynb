{
 "cells": [
  {
   "cell_type": "code",
   "execution_count": null,
   "metadata": {},
   "outputs": [],
   "source": [
    "#default_exp cli\n",
    "from nbdev import *\n",
    "# %nbdev_default_export cli"
   ]
  },
  {
   "cell_type": "markdown",
   "metadata": {},
   "source": [
    "# cli\n",
    "\n",
    "> This is a cli module for RemoteConnect"
   ]
  },
  {
   "cell_type": "code",
   "execution_count": null,
   "metadata": {},
   "outputs": [],
   "source": [
    "#hide\n",
    "from nbdev.showdoc import *"
   ]
  },
  {
   "cell_type": "code",
   "execution_count": null,
   "metadata": {},
   "outputs": [],
   "source": [
    "#export\n",
    "from fastcore.script import call_parse, Param, bool_arg\n",
    "from fastcore.basics import in_colab\n",
    "from RemoteConnect.core import RemoteCode, RemoteJupyter, RemotePluto, mount_drive, connect_to_ngrok"
   ]
  },
  {
   "cell_type": "markdown",
   "metadata": {},
   "source": [
    "## Start Code"
   ]
  },
  {
   "cell_type": "code",
   "execution_count": null,
   "metadata": {},
   "outputs": [],
   "source": [
    "#export\n",
    "@call_parse\n",
    "def start_code(port:Param(\"Port to Start Code\", type=int)=10000, \n",
    "               password:Param(\"Password to Start Code\", type=str)=None, \n",
    "               tunnel:Param(\"Tunel Type\", type=str)='ngrok',\n",
    "               authtoken:Param(\"Tunnel Authtoken for ngrok\", type=str)=None):\n",
    "    \"Starts Code Server\"\n",
    "    if in_colab(): mount_drive()\n",
    "    remote = RemoteCode(password=password, port=port, tunnel=tunnel, authtoken=authtoken)\n",
    "    remote.launch()"
   ]
  },
  {
   "cell_type": "markdown",
   "metadata": {},
   "source": [
    "## Start Jupyter"
   ]
  },
  {
   "cell_type": "code",
   "execution_count": null,
   "metadata": {},
   "outputs": [],
   "source": [
    "#export\n",
    "@call_parse\n",
    "def start_jupyter(port:Param(\"Port to Start Jupyter\", type=int)=9000, \n",
    "                  ui:Param(\"Interface to start\", type=str)='notebook',\n",
    "                  tunnel:Param(\"Tunel Type\", type=str)='ngrok',\n",
    "                  authtoken:Param(\"Tunnel Authtoken for ngrok\", type=str)=None, \n",
    "                  install_code:Param(\"Flag to install code\", type=bool)=False,\n",
    "                  install_julia:Param(\"Flag to install code\", type=bool)=False,\n",
    "                  ):\n",
    "    \"Starts Jupyter\"\n",
    "    if in_colab(): \n",
    "        print(\"Mounting Drive\")\n",
    "        mount_drive()\n",
    "    remote = RemoteJupyter(port=port, \n",
    "                           ui=ui, \n",
    "                           tunnel=tunnel, \n",
    "                           authtoken=authtoken, \n",
    "                           install_code=install_code, \n",
    "                           install_julia=install_julia\n",
    "                          )\n",
    "    remote.launch()"
   ]
  },
  {
   "cell_type": "code",
   "execution_count": null,
   "metadata": {},
   "outputs": [],
   "source": [
    "# start_jupyter(tunnel=\"telebit\")"
   ]
  },
  {
   "cell_type": "markdown",
   "metadata": {},
   "source": [
    "## Start Pluto"
   ]
  },
  {
   "cell_type": "code",
   "execution_count": null,
   "metadata": {},
   "outputs": [],
   "source": [
    "#export\n",
    "@call_parse\n",
    "def start_pluto(port:Param(\"Port to Start Jupyter\", type=int)=9000,\n",
    "                tunnel:Param(\"Tunel Type\", type=str)='ngrok',\n",
    "                authtoken:Param(\"Tunnel Authtoken for ngrok\", type=str)=None):\n",
    "    \"Starts Pluto.jl reactive notebook\"\n",
    "    if in_colab(): mount_drive()\n",
    "    remote = RemotePluto(port=port, tunnel=tunnel, authtoken=authtoken)\n",
    "    remote.launch()"
   ]
  },
  {
   "cell_type": "code",
   "execution_count": null,
   "metadata": {},
   "outputs": [],
   "source": []
  },
  {
   "cell_type": "code",
   "execution_count": null,
   "metadata": {},
   "outputs": [],
   "source": []
  }
 ],
 "metadata": {
  "kernelspec": {
   "display_name": "Python 3 (ipykernel)",
   "language": "python",
   "name": "python3"
  }
 },
 "nbformat": 4,
 "nbformat_minor": 4
}
